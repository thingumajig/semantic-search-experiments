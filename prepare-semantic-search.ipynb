{
 "cells": [
  {
   "cell_type": "markdown",
   "id": "d74e8482-b927-4d50-9ac6-5138fcd088f4",
   "metadata": {},
   "source": [
    "# Prepare docker"
   ]
  },
  {
   "cell_type": "code",
   "execution_count": null,
   "id": "20218498-e9ff-448e-bee0-f7b8386949e3",
   "metadata": {},
   "outputs": [],
   "source": [
    "# !docker build -t elastiknn-semantic-search .        "
   ]
  },
  {
   "cell_type": "code",
   "execution_count": 1,
   "id": "bcf600db-4bc4-4be6-8fb1-ea80d593c5f7",
   "metadata": {},
   "outputs": [
    {
     "name": "stdout",
     "output_type": "stream",
     "text": [
      "CONTAINER ID   IMAGE     COMMAND   CREATED   STATUS    PORTS     NAMES\n"
     ]
    }
   ],
   "source": [
    "!docker ps"
   ]
  },
  {
   "cell_type": "code",
   "execution_count": 2,
   "id": "535628ec-d30d-428d-8c02-035fc30aa9ad",
   "metadata": {},
   "outputs": [
    {
     "name": "stdout",
     "output_type": "stream",
     "text": [
      "NAME                   COMMAND                  SERVICE                STATUS              PORTS\n",
      "elasticsearch_master   \"/bin/tini -- /usr/lвЂ¦\"   elasticsearch_master   exited (143)        \n"
     ]
    }
   ],
   "source": [
    "!docker-compose ps"
   ]
  },
  {
   "cell_type": "code",
   "execution_count": 3,
   "id": "0f9339b0-7d69-4427-9f86-bd16971005f7",
   "metadata": {},
   "outputs": [],
   "source": [
    "# !docker run -d -p 9200:9200 -p 9300:9300 -e \"discovery.type=single-node\" --name search-server -v elasticsearch.yml:/usr/share/elasticsearch/config/elasticsearch.yml elastiknn-semantic-search"
   ]
  },
  {
   "cell_type": "code",
   "execution_count": null,
   "id": "67ba58b2-a2e4-4845-b694-139cc645671b",
   "metadata": {},
   "outputs": [],
   "source": [
    "!docker-compose up -d\n",
    "# !docker-compose start semantic-search"
   ]
  },
  {
   "cell_type": "code",
   "execution_count": null,
   "id": "82d117fb-99f7-4d98-9f87-1cafb69c746c",
   "metadata": {
    "tags": []
   },
   "outputs": [],
   "source": [
    "!curl --silent -u elastic:11235813 localhost:9200\n",
    "!curl --silent -u elastic:11235813 localhost:9200/_cluster/stats?pretty\n",
    "!curl --silent -u elastic:11235813 localhost:9200/_cat/health\n",
    "!curl --silent -u elastic:11235813 localhost:9200/_cat/plugins"
   ]
  },
  {
   "cell_type": "code",
   "execution_count": 33,
   "id": "ed61da07-ddc1-41d3-a75f-bca167e3cc40",
   "metadata": {},
   "outputs": [
    {
     "name": "stdout",
     "output_type": "stream",
     "text": [
      "Using version ^4.64.0 for tqdm\n",
      "\n",
      "Updating dependencies\n",
      "Resolving dependencies...\n",
      "\n",
      "Writing lock file\n",
      "\n",
      "Package operations: 1 install, 0 updates, 0 removals\n",
      "\n",
      "  • Installing tqdm (4.64.0)\n"
     ]
    }
   ],
   "source": [
    "# !poetry add elasticsearch==7.17.3\n",
    "# !poetry add tqdm"
   ]
  },
  {
   "cell_type": "code",
   "execution_count": null,
   "id": "446cfb41-e92a-4496-bc7e-46bee1030ced",
   "metadata": {},
   "outputs": [],
   "source": [
    "# !curl -X POST \"localhost:9200/_nodes/reload_secure_settings?pretty\" -H 'Content-Type: application/json' -d' \\\n",
    "# { \\\n",
    "#   \"secure_settings_password\": \"keystore-password\" \\\n",
    "# } \\\n",
    "# ' \\\n"
   ]
  },
  {
   "cell_type": "code",
   "execution_count": 23,
   "id": "4c36e6ce-35a3-45c1-bf40-b7c8c56ad177",
   "metadata": {},
   "outputs": [
    {
     "name": "stdout",
     "output_type": "stream",
     "text": [
      "elasticsearch           7.17.3\n"
     ]
    },
    {
     "name": "stderr",
     "output_type": "stream",
     "text": [
      "WARNING: You are using pip version 22.0.3; however, version 22.1.1 is available.\n",
      "You should consider upgrading via the 'C:\\Users\\artif\\AppData\\Local\\pypoetry\\Cache\\virtualenvs\\semantic-search-5CWfmEyu-py3.8\\Scripts\\python.exe -m pip install --upgrade pip' command.\n"
     ]
    }
   ],
   "source": [
    "!pip list | grep elasticsearch "
   ]
  },
  {
   "cell_type": "markdown",
   "id": "25e9bb54-4249-47db-bc46-6f62b5397755",
   "metadata": {},
   "source": [
    "# Setup Elasticsearch client"
   ]
  },
  {
   "cell_type": "code",
   "execution_count": 63,
   "id": "21ab8933-a681-4df3-9fb4-984710b5c31a",
   "metadata": {},
   "outputs": [
    {
     "data": {
      "text/plain": [
       "{'cluster_name': 'docker-cluster',\n",
       " 'status': 'yellow',\n",
       " 'timed_out': False,\n",
       " 'number_of_nodes': 1,\n",
       " 'number_of_data_nodes': 1,\n",
       " 'active_primary_shards': 1793,\n",
       " 'active_shards': 1793,\n",
       " 'relocating_shards': 0,\n",
       " 'initializing_shards': 0,\n",
       " 'unassigned_shards': 1789,\n",
       " 'delayed_unassigned_shards': 0,\n",
       " 'number_of_pending_tasks': 0,\n",
       " 'number_of_in_flight_fetch': 0,\n",
       " 'task_max_waiting_in_queue_millis': 0,\n",
       " 'active_shards_percent_as_number': 50.055834729201564}"
      ]
     },
     "execution_count": 63,
     "metadata": {},
     "output_type": "execute_result"
    }
   ],
   "source": [
    "from elasticsearch import Elasticsearch\n",
    "from elasticsearch.helpers import bulk\n",
    "\n",
    "es = Elasticsearch([\"http://localhost:9200\"], http_auth=('elastic', '11235813'), timeout=30)\n",
    "es.cluster.health(wait_for_status='yellow', request_timeout=10)\n"
   ]
  },
  {
   "cell_type": "markdown",
   "id": "ada7b3d1-14e7-4d5b-b4d6-7b84ec0556e7",
   "metadata": {},
   "source": [
    "### check client api version"
   ]
  },
  {
   "cell_type": "code",
   "execution_count": 9,
   "id": "6eb8e217-9fad-4b12-a929-ffbcc7300c74",
   "metadata": {},
   "outputs": [
    {
     "data": {
      "text/plain": [
       "(7, 17, 3)"
      ]
     },
     "execution_count": 9,
     "metadata": {},
     "output_type": "execute_result"
    }
   ],
   "source": [
    "import elasticsearch as eees\n",
    "eees.__version__"
   ]
  },
  {
   "cell_type": "markdown",
   "id": "3d652315-4bc8-4f5f-ae1b-ad80b13771d4",
   "metadata": {},
   "source": [
    "## Prepare indices"
   ]
  },
  {
   "cell_type": "code",
   "execution_count": 87,
   "id": "9a7ef7d6-314b-463a-9c16-fec378c2a1af",
   "metadata": {},
   "outputs": [
    {
     "name": "stdout",
     "output_type": "stream",
     "text": [
      "{\"acknowledged\":true}\n"
     ]
    }
   ],
   "source": [
    "# delete all indices\n",
    "# !curl -s -X DELETE localhost:9200/_all\n"
   ]
  },
  {
   "cell_type": "code",
   "execution_count": 88,
   "id": "f5784116-90f8-4f80-a23a-80d4e27e519f",
   "metadata": {},
   "outputs": [],
   "source": [
    "index_name = 'news-headers'\n",
    "\n",
    "source_no_vecs = ['title', 'db_id']\n",
    "vector_dims = 512"
   ]
  },
  {
   "cell_type": "code",
   "execution_count": 89,
   "id": "9d1088ed-efb5-4d3d-9433-38ff41caf94d",
   "metadata": {
    "tags": []
   },
   "outputs": [
    {
     "data": {
      "text/plain": [
       "{}"
      ]
     },
     "execution_count": 89,
     "metadata": {},
     "output_type": "execute_result"
    }
   ],
   "source": [
    "# es.indices.get(index=\"*\")\n",
    "es.indices.get(index='*')"
   ]
  },
  {
   "cell_type": "markdown",
   "id": "1e230d19-9c39-40c3-9c10-812fc4869e44",
   "metadata": {},
   "source": [
    "### optional: delete index"
   ]
  },
  {
   "cell_type": "code",
   "execution_count": 91,
   "id": "deb93fdf-e13c-429b-a044-5f751233b7b3",
   "metadata": {
    "tags": []
   },
   "outputs": [],
   "source": [
    "# es.indices.delete(index=index_name, ignore=[400, 404])\n",
    "# es.indices.flush(index=\"*\")\n",
    "# es.indices.shrink(index=\"*\")\n",
    "# if es.indices.exists(index=index_name):\n",
    "# es.indices.get_mapping(index=index_name)"
   ]
  },
  {
   "cell_type": "code",
   "execution_count": 92,
   "id": "c3361f53-ed27-4907-9805-6f77b3cfcaad",
   "metadata": {
    "tags": []
   },
   "outputs": [
    {
     "name": "stderr",
     "output_type": "stream",
     "text": [
      "C:\\Users\\artif\\AppData\\Local\\Temp\\ipykernel_11120\\1924555001.py:53: DeprecationWarning: Using positional arguments for APIs is deprecated and will be disabled in 8.0.0. Instead use only keyword arguments for all APIs. See https://github.com/elastic/elasticsearch-py/issues/1698 for more information\n",
      "  es.indices.put_mapping(mapping, index=index_name,  )\n"
     ]
    }
   ],
   "source": [
    "settings = {\n",
    "    \"number_of_shards\": 1,\n",
    "    \"number_of_replicas\": 0,\n",
    "    \"elastiknn\": True,    \n",
    "  # \"settings\": {\n",
    "  #   \"number_of_shards\": 1,\n",
    "  #   \"number_of_replicas\": 0,\n",
    "  #   \"elastiknn\": True,    \n",
    "  # }\n",
    "}\n",
    "\n",
    "mapping = {\n",
    "  \"dynamic\": False,\n",
    "  \"properties\": {\n",
    "    \"db_id\": { \"type\": \"text\" },\n",
    "    \"title\": {\"type\": \"text\" },  \n",
    "      \n",
    "      \n",
    "    \"title_emb\": {\n",
    "        \"type\": \"elastiknn_dense_float_vector\", # 1\n",
    "        \"elastiknn\": {\n",
    "            \"dims\": vector_dims,                        # 2\n",
    "            \"model\": \"lsh\",                     # 3\n",
    "            \"similarity\": \"cosine\",             # 4\n",
    "            \"L\": 99,                            # 5\n",
    "            \"k\": 3                              # 6\n",
    "        }\n",
    "    },\n",
    "    \n",
    "    # \"imVecElastiknn\": {\n",
    "    #   \"type\": \"elastiknn_dense_float_vector\",\n",
    "    #   \"elastiknn\": {\n",
    "    #     \"dims\": vector_dims,\n",
    "    #     \"model\": \"lsh\",\n",
    "    #     \"similarity\": \"angular\",\n",
    "    #     \"L\": 60,\n",
    "    #     \"k\": 3\n",
    "    #   }\n",
    "    # },\n",
    "    # \"imVecXpack\": {\n",
    "    #   \"type\": \"dense_vector\",\n",
    "    #   \"dims\": vector_dims\n",
    "    # },\n",
    "    # \"title\": { \"type\": \"text\" },\n",
    "    # \"description\": { \"type\": \"text\" },\n",
    "    # \"price\": { \"type\": \"float\" },\n",
    "    # \"imUrl\": { \"type\": \"text\" }\n",
    "  }\n",
    "}\n",
    "\n",
    "if not es.indices.exists(index=index_name):\n",
    "    es.indices.create(index=index_name, settings=settings)\n",
    "    es.indices.put_mapping(mapping, index=index_name,  )\n"
   ]
  },
  {
   "cell_type": "code",
   "execution_count": 93,
   "id": "880a2301-8c66-420f-bfda-a22d5651df38",
   "metadata": {},
   "outputs": [
    {
     "name": "stderr",
     "output_type": "stream",
     "text": [
      "C:\\Users\\artif\\AppData\\Local\\Temp\\ipykernel_11120\\3899948553.py:1: DeprecationWarning: Using positional arguments for APIs is deprecated and will be disabled in 8.0.0. Instead use only keyword arguments for all APIs. See https://github.com/elastic/elasticsearch-py/issues/1698 for more information\n",
      "  es.cluster.put_settings({\n"
     ]
    },
    {
     "data": {
      "text/plain": [
       "{'acknowledged': True,\n",
       " 'persistent': {'cluster': {'max_shards_per_node': '5000'}},\n",
       " 'transient': {'cluster': {'routing': {'allocation': {'total_shards_per_node': '5100'}}}}}"
      ]
     },
     "execution_count": 93,
     "metadata": {},
     "output_type": "execute_result"
    }
   ],
   "source": [
    "es.cluster.put_settings({\n",
    "    \"persistent\": { \"cluster.max_shards_per_node\": \"5000\" },\n",
    "    \"transient\": {\n",
    "        \"cluster.routing.allocation.total_shards_per_node\": 5100\n",
    "    }\n",
    "})"
   ]
  },
  {
   "cell_type": "code",
   "execution_count": 94,
   "id": "7756b96c-ac99-41c4-af1c-bddf94f44b27",
   "metadata": {},
   "outputs": [
    {
     "data": {
      "text/plain": [
       "{'news-headers': {'settings': {'index': {'elastiknn': 'true',\n",
       "    'routing': {'allocation': {'include': {'_tier_preference': 'data_content'}}},\n",
       "    'number_of_shards': '1',\n",
       "    'provided_name': 'news-headers',\n",
       "    'creation_date': '1653891551392',\n",
       "    'number_of_replicas': '0',\n",
       "    'uuid': '9NuFNuRrSXmb_u6purdjIA',\n",
       "    'version': {'created': '7170399'}}}}}"
      ]
     },
     "execution_count": 94,
     "metadata": {},
     "output_type": "execute_result"
    }
   ],
   "source": [
    "es.indices.get_settings(index=index_name)"
   ]
  },
  {
   "cell_type": "code",
   "execution_count": 95,
   "id": "bc91d52e-7d5f-446c-97e9-55931262feb4",
   "metadata": {},
   "outputs": [
    {
     "data": {
      "text/plain": [
       "{'_shards': {'total': 1, 'successful': 1, 'failed': 0}}"
      ]
     },
     "execution_count": 95,
     "metadata": {},
     "output_type": "execute_result"
    }
   ],
   "source": [
    "es.indices.refresh(index=index_name)"
   ]
  },
  {
   "cell_type": "markdown",
   "id": "e12a30fc-4de0-4e2e-b6e8-2fa065785e4d",
   "metadata": {},
   "source": [
    "## Generate and index Embeddings"
   ]
  },
  {
   "cell_type": "code",
   "execution_count": 96,
   "id": "349ad910-3a58-4b21-a959-295c11b83585",
   "metadata": {},
   "outputs": [],
   "source": [
    "import tensorflow_hub as hub\n",
    "import numpy as np\n",
    "import tensorflow_text\n",
    "from tqdm import tqdm\n",
    "import pandas as pd"
   ]
  },
  {
   "cell_type": "code",
   "execution_count": 97,
   "id": "4942eef7-1047-4a6d-8f8a-cc24da1bec46",
   "metadata": {},
   "outputs": [
    {
     "name": "stdout",
     "output_type": "stream",
     "text": [
      "WARNING:tensorflow:5 out of the last 5 calls to <function recreate_function.<locals>.restored_function_body at 0x0000025A91772EE0> triggered tf.function retracing. Tracing is expensive and the excessive number of tracings could be due to (1) creating @tf.function repeatedly in a loop, (2) passing tensors with different shapes, (3) passing Python objects instead of tensors. For (1), please define your @tf.function outside of the loop. For (2), @tf.function has experimental_relax_shapes=True option that relaxes argument shapes that can avoid unnecessary retracing. For (3), please refer to https://www.tensorflow.org/guide/function#controlling_retracing and https://www.tensorflow.org/api_docs/python/tf/function for  more details.\n"
     ]
    },
    {
     "name": "stderr",
     "output_type": "stream",
     "text": [
      "WARNING:tensorflow:5 out of the last 5 calls to <function recreate_function.<locals>.restored_function_body at 0x0000025A91772EE0> triggered tf.function retracing. Tracing is expensive and the excessive number of tracings could be due to (1) creating @tf.function repeatedly in a loop, (2) passing tensors with different shapes, (3) passing Python objects instead of tensors. For (1), please define your @tf.function outside of the loop. For (2), @tf.function has experimental_relax_shapes=True option that relaxes argument shapes that can avoid unnecessary retracing. For (3), please refer to https://www.tensorflow.org/guide/function#controlling_retracing and https://www.tensorflow.org/api_docs/python/tf/function for  more details.\n"
     ]
    }
   ],
   "source": [
    "embed = hub.load(\"https://tfhub.dev/google/universal-sentence-encoder-multilingual/3\")"
   ]
  },
  {
   "cell_type": "code",
   "execution_count": 98,
   "id": "9ffa18d5-0269-49cb-b44d-b545f191ab99",
   "metadata": {},
   "outputs": [
    {
     "data": {
      "text/html": [
       "<div>\n",
       "<style scoped>\n",
       "    .dataframe tbody tr th:only-of-type {\n",
       "        vertical-align: middle;\n",
       "    }\n",
       "\n",
       "    .dataframe tbody tr th {\n",
       "        vertical-align: top;\n",
       "    }\n",
       "\n",
       "    .dataframe thead th {\n",
       "        text-align: right;\n",
       "    }\n",
       "</style>\n",
       "<table border=\"1\" class=\"dataframe\">\n",
       "  <thead>\n",
       "    <tr style=\"text-align: right;\">\n",
       "      <th></th>\n",
       "      <th>ID</th>\n",
       "      <th>NEWS_HEAD</th>\n",
       "    </tr>\n",
       "  </thead>\n",
       "  <tbody>\n",
       "    <tr>\n",
       "      <th>0</th>\n",
       "      <td>1552621575</td>\n",
       "      <td>Государственная Дума рекомендует Правительству...</td>\n",
       "    </tr>\n",
       "    <tr>\n",
       "      <th>1</th>\n",
       "      <td>1552115547</td>\n",
       "      <td>Евгений Грабчак: «Меры поддержки помогут ТЭК о...</td>\n",
       "    </tr>\n",
       "    <tr>\n",
       "      <th>2</th>\n",
       "      <td>1552115549</td>\n",
       "      <td>Павел Сниккарс: «Важная задача в электроэнерге...</td>\n",
       "    </tr>\n",
       "    <tr>\n",
       "      <th>3</th>\n",
       "      <td>1551704812</td>\n",
       "      <td>Вниманию гарантирующих поставщиков и энергосбы...</td>\n",
       "    </tr>\n",
       "    <tr>\n",
       "      <th>4</th>\n",
       "      <td>1551704814</td>\n",
       "      <td>Эдуард Шереметцев: «Национальная энергетическа...</td>\n",
       "    </tr>\n",
       "  </tbody>\n",
       "</table>\n",
       "</div>"
      ],
      "text/plain": [
       "           ID                                          NEWS_HEAD\n",
       "0  1552621575  Государственная Дума рекомендует Правительству...\n",
       "1  1552115547  Евгений Грабчак: «Меры поддержки помогут ТЭК о...\n",
       "2  1552115549  Павел Сниккарс: «Важная задача в электроэнерге...\n",
       "3  1551704812  Вниманию гарантирующих поставщиков и энергосбы...\n",
       "4  1551704814  Эдуард Шереметцев: «Национальная энергетическа..."
      ]
     },
     "execution_count": 98,
     "metadata": {},
     "output_type": "execute_result"
    }
   ],
   "source": [
    "tqdm.pandas(desc=\"pandas processing...\")\n",
    "df = pd.read_excel(\"ЭТ_Новости.xlsx\")\n",
    "df.head()"
   ]
  },
  {
   "cell_type": "code",
   "execution_count": 99,
   "id": "cc9aeaaa-8db3-4d62-b429-65fcd894caf7",
   "metadata": {
    "tags": []
   },
   "outputs": [
    {
     "data": {
      "text/plain": [
       "(1975, [])"
      ]
     },
     "execution_count": 99,
     "metadata": {},
     "output_type": "execute_result"
    }
   ],
   "source": [
    "def heads_actions():\n",
    "    for index, row in df.iterrows():\n",
    "        # print(row['ID'], row['NEWS_HEAD'])\n",
    "        # print(embed(row['NEWS_HEAD']).numpy()[0])\n",
    "        yield {\n",
    "          \"_op_type\": \"index\", \n",
    "          \"_index\": index_name, \n",
    "            \n",
    "          \"_id\": row['ID'], \n",
    "          \"db_id\": row['ID'],      \n",
    "          \"title\": row['NEWS_HEAD'] \n",
    "          # \"description\": p.get(\"description\", None),\n",
    "          # \"price\": p.get(\"price\", None),\n",
    "          # \"imUrl\": p.get(\"imUrl\", None)\n",
    "        }\n",
    "\n",
    "bulk(es, heads_actions(), chunk_size=1000, max_retries=2)\n",
    "        "
   ]
  },
  {
   "cell_type": "code",
   "execution_count": 70,
   "id": "106fe377-b208-4feb-9043-f36d723a0336",
   "metadata": {},
   "outputs": [
    {
     "name": "stderr",
     "output_type": "stream",
     "text": [
      "C:\\Users\\artif\\AppData\\Local\\Temp\\ipykernel_11120\\982036466.py:6: DeprecationWarning: The 'body' parameter is deprecated for the 'index' API and will be removed in a future version. Instead use the 'document' parameter. See https://github.com/elastic/elasticsearch-py/issues/1698 for more information\n",
      "  res = es.index(index=index, id=row['ID'], body=doc)\n"
     ]
    }
   ],
   "source": [
    "\n",
    "# for i, row in df.iterrows():\n",
    "#     doc = {\n",
    "#           \"db_id\": row['ID'],      \n",
    "#           \"title\": row['NEWS_HEAD'] \n",
    "#         }\n",
    "#     res = es.index(index=index_name, id=row['ID'], body=doc)\n",
    "#     print(res)"
   ]
  },
  {
   "cell_type": "code",
   "execution_count": 100,
   "id": "96523355-de69-47a3-aa77-db4a7334c9e6",
   "metadata": {},
   "outputs": [
    {
     "data": {
      "text/plain": [
       "{'_shards': {'total': 1, 'successful': 1, 'failed': 0}}"
      ]
     },
     "execution_count": 100,
     "metadata": {},
     "output_type": "execute_result"
    }
   ],
   "source": [
    "es.indices.refresh(index=index_name)\n",
    "es.indices.forcemerge(index=index_name, max_num_segments=1, request_timeout=120)"
   ]
  },
  {
   "cell_type": "code",
   "execution_count": 108,
   "id": "919e01f7-18a9-4e0f-8c02-2808b232bdca",
   "metadata": {},
   "outputs": [
    {
     "name": "stdout",
     "output_type": "stream",
     "text": [
      "WARNING:tensorflow:6 out of the last 6 calls to <function recreate_function.<locals>.restored_function_body at 0x0000025A8721E550> triggered tf.function retracing. Tracing is expensive and the excessive number of tracings could be due to (1) creating @tf.function repeatedly in a loop, (2) passing tensors with different shapes, (3) passing Python objects instead of tensors. For (1), please define your @tf.function outside of the loop. For (2), @tf.function has experimental_relax_shapes=True option that relaxes argument shapes that can avoid unnecessary retracing. For (3), please refer to https://www.tensorflow.org/guide/function#controlling_retracing and https://www.tensorflow.org/api_docs/python/tf/function for  more details.\n"
     ]
    },
    {
     "name": "stderr",
     "output_type": "stream",
     "text": [
      "WARNING:tensorflow:6 out of the last 6 calls to <function recreate_function.<locals>.restored_function_body at 0x0000025A8721E550> triggered tf.function retracing. Tracing is expensive and the excessive number of tracings could be due to (1) creating @tf.function repeatedly in a loop, (2) passing tensors with different shapes, (3) passing Python objects instead of tensors. For (1), please define your @tf.function outside of the loop. For (2), @tf.function has experimental_relax_shapes=True option that relaxes argument shapes that can avoid unnecessary retracing. For (3), please refer to https://www.tensorflow.org/guide/function#controlling_retracing and https://www.tensorflow.org/api_docs/python/tf/function for  more details.\n"
     ]
    },
    {
     "data": {
      "text/plain": [
       "(1975, [])"
      ]
     },
     "execution_count": 108,
     "metadata": {},
     "output_type": "execute_result"
    }
   ],
   "source": [
    "def vector_actions():\n",
    "    for index, row in df.iterrows():\n",
    "        yield { \n",
    "            \"_op_type\": \"update\", \n",
    "            \"_index\": index_name, \n",
    "            \n",
    "            \"_id\": row['ID'], \n",
    "            \"doc\": { \n",
    "              \"title_emb\": { \"values\": embed(row['NEWS_HEAD']).numpy()[0] }\n",
    "            }\n",
    "        }\n",
    "        \n",
    "\n",
    "bulk(es, vector_actions(), chunk_size=50, max_retries=10, request_timeout=60)"
   ]
  },
  {
   "cell_type": "code",
   "execution_count": 121,
   "id": "695f26b9-07c5-418f-8096-348924277b0b",
   "metadata": {},
   "outputs": [
    {
     "data": {
      "text/plain": [
       "{'_shards': {'total': 1, 'successful': 1, 'failed': 0}}"
      ]
     },
     "execution_count": 121,
     "metadata": {},
     "output_type": "execute_result"
    }
   ],
   "source": [
    "es.indices.refresh(index=index_name)\n",
    "es.indices.forcemerge(index=index_name, max_num_segments=1, request_timeout=300)"
   ]
  },
  {
   "cell_type": "code",
   "execution_count": 110,
   "id": "0d96839b-8899-47c4-a288-4d52269c5e5f",
   "metadata": {},
   "outputs": [
    {
     "name": "stderr",
     "output_type": "stream",
     "text": [
      "C:\\Users\\artif\\AppData\\Local\\Temp\\ipykernel_11120\\1695063147.py:1: DeprecationWarning: Using positional arguments for APIs is deprecated and will be disabled in 8.0.0. Instead use only keyword arguments for all APIs. See https://github.com/elastic/elasticsearch-py/issues/1698 for more information\n",
      "  es.indices.get(index_name)\n"
     ]
    },
    {
     "data": {
      "text/plain": [
       "{'news-headers': {'aliases': {},\n",
       "  'mappings': {'dynamic': 'false',\n",
       "   'properties': {'db_id': {'type': 'text'},\n",
       "    'title': {'type': 'text'},\n",
       "    'title_emb': {'type': 'elastiknn_dense_float_vector',\n",
       "     'elastiknn': {'L': 99,\n",
       "      'dims': 512,\n",
       "      'k': 3,\n",
       "      'model': 'lsh',\n",
       "      'similarity': 'cosine'}}}},\n",
       "  'settings': {'index': {'elastiknn': 'true',\n",
       "    'routing': {'allocation': {'include': {'_tier_preference': 'data_content'}}},\n",
       "    'number_of_shards': '1',\n",
       "    'provided_name': 'news-headers',\n",
       "    'creation_date': '1653891551392',\n",
       "    'number_of_replicas': '0',\n",
       "    'uuid': '9NuFNuRrSXmb_u6purdjIA',\n",
       "    'version': {'created': '7170399'}}}}}"
      ]
     },
     "execution_count": 110,
     "metadata": {},
     "output_type": "execute_result"
    }
   ],
   "source": [
    "es.indices.get(index_name)"
   ]
  },
  {
   "cell_type": "markdown",
   "id": "ffe919db-b62b-44f1-b0cc-746bc74a5e4e",
   "metadata": {},
   "source": [
    "### Check documents in index"
   ]
  },
  {
   "cell_type": "code",
   "execution_count": 115,
   "id": "6513af91-cc51-4271-a301-308f9b34ddbb",
   "metadata": {},
   "outputs": [],
   "source": [
    "def display_hits(res):\n",
    "    print(f\"Found {res['hits']['total']['value']} hits in {res['took']} ms. Showing top {len(res['hits']['hits'])}.\")\n",
    "    print(\"\")\n",
    "    for hit in res['hits']['hits']:\n",
    "        s = hit['_source']\n",
    "        print(f\"Id:{s.get('db_id', None)} Title   {s.get('title', None)}\")\n",
    "        print(f\"Score   {hit.get('_score', None)}\")\n"
   ]
  },
  {
   "cell_type": "code",
   "execution_count": null,
   "id": "9ccab659-689d-415b-afa9-66732797e86e",
   "metadata": {
    "tags": []
   },
   "outputs": [],
   "source": [
    "es.get(index=index_name, id=\"1552115547\")"
   ]
  },
  {
   "cell_type": "markdown",
   "id": "91ce572d-2a78-485a-9dd3-4cd61ff7c4a5",
   "metadata": {},
   "source": [
    "# Keyword search"
   ]
  },
  {
   "cell_type": "code",
   "execution_count": 116,
   "id": "79f8c703-0c4b-411c-92a2-fc8a384e8403",
   "metadata": {},
   "outputs": [
    {
     "name": "stdout",
     "output_type": "stream",
     "text": [
      "Found 21 hits in 6 ms. Showing top 5.\n",
      "\n",
      "Id:1103327850 Title   Евгений Грабчак: «Министерство энергетики поддерживает консолидацию электросетевого комплекса»\n",
      "Score   10.686453\n",
      "Id:1100853084 Title   Евгений Грабчак принял участие в Конференции по киберзащите промышленных объектов\n",
      "Score   9.937215\n",
      "Id:1100853110 Title   Евгений Грабчак открыл Всероссийские соревнования профессионального мастерства оперативного персонала ТЭС\n",
      "Score   9.937215\n",
      "Id:1100853360 Title   Евгений Грабчак: «Необходимо внедрять технологии цифрового моделирования в отраслевую деятельность»\n",
      "Score   9.937215\n",
      "Id:1100853397 Title   Евгений Грабчак принял участие в конференции экономико-экологического форума ОБСЕ\n",
      "Score   9.937215\n"
     ]
    },
    {
     "name": "stderr",
     "output_type": "stream",
     "text": [
      "C:\\Users\\artif\\AppData\\Local\\Temp\\ipykernel_11120\\1281547386.py:10: DeprecationWarning: The 'body' parameter is deprecated for the 'search' API and will be removed in a future version. Instead use API parameters directly. See https://github.com/elastic/elasticsearch-py/issues/1698 for more information\n",
      "  res = es.search(index=index_name, body=body, size=5, _source=source_no_vecs)\n"
     ]
    }
   ],
   "source": [
    "body = {\n",
    "  \"query\": {\n",
    "    \"multi_match\": {\n",
    "      \"query\": \"Грабчак\",\n",
    "      \"fields\": [\"title^2\"]\n",
    "    }\n",
    "  }\n",
    "}\n",
    "\n",
    "res = es.search(index=index_name, body=body, size=5, _source=source_no_vecs)\n",
    "display_hits(res)"
   ]
  },
  {
   "cell_type": "markdown",
   "id": "ebfa2b65-03a8-4f28-a849-67e77d7081e7",
   "metadata": {},
   "source": [
    "# Semantic search"
   ]
  },
  {
   "cell_type": "code",
   "execution_count": null,
   "id": "48425ab0-4bfe-4d6c-848a-64138f21b066",
   "metadata": {
    "tags": []
   },
   "outputs": [],
   "source": [
    "db_id = 1103327850\n",
    "\n",
    "fetch_res = es.get(index=index_name, id=db_id)\n",
    "query_vec = fetch_res['_source']['title_emb']['values']\n",
    "query_vec"
   ]
  },
  {
   "cell_type": "code",
   "execution_count": 126,
   "id": "8f7a3202-9b0a-4e8d-8890-d76f3ff6eb8f",
   "metadata": {},
   "outputs": [
    {
     "name": "stdout",
     "output_type": "stream",
     "text": [
      "Found 50 hits in 147 ms. Showing top 5.\n",
      "\n",
      "Id:1103327850 Title   Евгений Грабчак: «Министерство энергетики поддерживает консолидацию электросетевого комплекса»\n",
      "Score   2.0\n",
      "Id:1100853086 Title   Юрий Маневич: «Министерство энергетики выступает за конкуренцию на рынке электроэнергии»\n",
      "Score   1.6889415\n",
      "Id:1552115547 Title   Евгений Грабчак: «Меры поддержки помогут ТЭК обеспечить российскую экономику необходимыми энергоресурсами» \n",
      "Score   1.6439109\n",
      "Id:1547982596 Title   Евгений Грабчак: «Платежи легальных майнеров за электроэнергию могут обеспечить дополнительные средства для развития электросетей» \n",
      "Score   1.64228\n",
      "Id:1110168307 Title   Евгений Грабчак: «Цифровая модернизация позволит решить высокий уровень износа основных фондов в электроэнергетике»\n",
      "Score   1.6400468\n"
     ]
    },
    {
     "name": "stderr",
     "output_type": "stream",
     "text": [
      "C:\\Users\\artif\\AppData\\Local\\Temp\\ipykernel_11120\\1840879591.py:15: DeprecationWarning: The 'body' parameter is deprecated for the 'search' API and will be removed in a future version. Instead use API parameters directly. See https://github.com/elastic/elasticsearch-py/issues/1698 for more information\n",
      "  res = es.search(index=index_name, body=body, size=5, _source=source_no_vecs)\n"
     ]
    }
   ],
   "source": [
    "body = {\n",
    "    \"query\": {\n",
    "        \"elastiknn_nearest_neighbors\": {\n",
    "            \"field\": \"title_emb\",                     # 1\n",
    "            \"vec\": {                               # 2\n",
    "                \"values\": query_vec\n",
    "            },\n",
    "            \"model\": \"lsh\",                        # 3\n",
    "            \"similarity\": \"cosine\",                # 4\n",
    "            \"candidates\": 50                       # 5\n",
    "        }\n",
    "    }\n",
    "}\n",
    "\n",
    "res = es.search(index=index_name, body=body, size=5, _source=source_no_vecs)\n",
    "display_hits(res)"
   ]
  },
  {
   "cell_type": "code",
   "execution_count": 130,
   "id": "e3d209cd-278d-4841-9842-d72654ed7313",
   "metadata": {},
   "outputs": [
    {
     "name": "stdout",
     "output_type": "stream",
     "text": [
      "Found 150 hits in 9 ms. Showing top 10.\n",
      "\n",
      "Id:1100853659 Title    О мероприятиях в Тамбовской области\n",
      "Score   1.4850954\n",
      "Id:1100853593 Title   Новости Амурской области\n",
      "Score   1.4110494\n",
      "Id:1100853785 Title   Новости Московской области\n",
      "Score   1.4084431\n",
      "Id:1102612044 Title   Новости Тульской области \n",
      "Score   1.4013536\n",
      "Id:1102253414 Title   Новости Тульской области\n",
      "Score   1.4013536\n",
      "Id:1100853647 Title    Новости Орловской области\n",
      "Score   1.3985813\n",
      "Id:1100851835 Title   Новости Курганской области\n",
      "Score   1.3968015\n",
      "Id:1100853629 Title    Новости Курганской области\n",
      "Score   1.3968015\n",
      "Id:1113175798 Title   Новости Кемеровской области\n",
      "Score   1.3895586\n",
      "Id:1100853759 Title   О мероприятии в Аппарате Рязанской областной Думы\n",
      "Score   1.385992\n"
     ]
    },
    {
     "name": "stderr",
     "output_type": "stream",
     "text": [
      "C:\\Users\\artif\\AppData\\Local\\Temp\\ipykernel_11120\\516059528.py:18: DeprecationWarning: The 'body' parameter is deprecated for the 'search' API and will be removed in a future version. Instead use API parameters directly. See https://github.com/elastic/elasticsearch-py/issues/1698 for more information\n",
      "  res = es.search(index=index_name, body=body, size=10, _source=source_no_vecs)\n"
     ]
    }
   ],
   "source": [
    "query_text = \"события в области\"\n",
    "query_vec = embed(query_text).numpy()[0]\n",
    "\n",
    "body = {\n",
    "    \"query\": {\n",
    "        \"elastiknn_nearest_neighbors\": {\n",
    "            \"field\": \"title_emb\",                     # 1\n",
    "            \"vec\": {                               # 2\n",
    "                \"values\": query_vec\n",
    "            },\n",
    "            \"model\": \"lsh\",                        # 3\n",
    "            \"similarity\": \"cosine\",                # 4\n",
    "            \"candidates\": 150                       # 5\n",
    "        }\n",
    "    }\n",
    "}\n",
    "\n",
    "res = es.search(index=index_name, body=body, size=10, _source=source_no_vecs)\n",
    "display_hits(res)"
   ]
  },
  {
   "cell_type": "markdown",
   "id": "04b8af56-1265-42ee-9ccb-90307f2ccbbd",
   "metadata": {},
   "source": [
    "# deprecated: some curl tests"
   ]
  },
  {
   "cell_type": "code",
   "execution_count": 24,
   "id": "517384a7-ebe5-4db3-b29b-da499a2f3d51",
   "metadata": {},
   "outputs": [
    {
     "name": "stdout",
     "output_type": "stream",
     "text": [
      "{\n",
      "  \"note\" : \"No shard was specified in the explain API request, so this response explains a randomly chosen unassigned shard. There may be other unassigned shards in this cluster which cannot be assigned for different reasons. It may not be possible to assign this shard until one of the other shards is assigned correctly. To explain the allocation of other shards (whether assigned or unassigned) you must specify the target shard in the request to this API.\",\n",
      "  \"index\" : \"1505\",\n",
      "  \"shard\" : 0,\n",
      "  \"primary\" : false,\n",
      "  \"current_state\" : \"unassigned\",\n",
      "  \"unassigned_info\" : {\n",
      "    \"reason\" : \"CLUSTER_RECOVERED\",\n",
      "    \"at\" : \"2022-05-30T04:47:33.638Z\",\n",
      "    \"last_allocation_status\" : \"no_attempt\"\n",
      "  },\n",
      "  \"can_allocate\" : \"no\",\n",
      "  \"allocate_explanation\" : \"cannot allocate because allocation is not permitted to any of the nodes\",\n",
      "  \"node_allocation_decisions\" : [\n",
      "    {\n",
      "      \"node_id\" : \"_cGWOoLjRqSIXGg95H_VDw\",\n",
      "      \"node_name\" : \"elasticsearch_master\",\n",
      "      \"transport_address\" : \"172.19.0.2:9300\",\n",
      "      \"node_attributes\" : {\n",
      "        \"ml.machine_memory\" : \"8173694976\",\n",
      "        \"xpack.installed\" : \"true\",\n",
      "        \"transform.node\" : \"true\",\n",
      "        \"ml.max_open_jobs\" : \"512\",\n",
      "        \"ml.max_jvm_size\" : \"4294967296\"\n",
      "      },\n",
      "      \"node_decision\" : \"no\",\n",
      "      \"deciders\" : [\n",
      "        {\n",
      "          \"decider\" : \"same_shard\",\n",
      "          \"decision\" : \"NO\",\n",
      "          \"explanation\" : \"a copy of this shard is already allocated to this node [[1505][0], node[_cGWOoLjRqSIXGg95H_VDw], [P], s[STARTED], a[id=ODovpTI4SraxeuCbLL363A]]\"\n",
      "        }\n",
      "      ]\n",
      "    }\n",
      "  ]\n",
      "}\n"
     ]
    }
   ],
   "source": [
    "!curl -s -XGET localhost:9200/_cluster/allocation/explain?pretty"
   ]
  },
  {
   "cell_type": "code",
   "execution_count": 27,
   "id": "b5f61695-a957-4e48-985d-2c4e8f0a0396",
   "metadata": {},
   "outputs": [],
   "source": [
    "!curl -s -XPUT 'localhost:9200/wazuh-alerts-*/_settings' -H 'Content-Type: application/json' -d '{ \"index\": { \"number_of_replicas\": \"0\" } }'"
   ]
  },
  {
   "cell_type": "code",
   "execution_count": 29,
   "id": "2d501e75-bbba-480f-b1b4-bc24b3a019cf",
   "metadata": {},
   "outputs": [
    {
     "name": "stdout",
     "output_type": "stream",
     "text": [
      "{\"error\":{\"root_cause\":[{\"type\":\"json_parse_exception\",\"reason\":\"Unexpected character (''' (code 39)): expected a valid value (JSON String, Number, Array, Object or token 'null', 'true' or 'false')\\n at [Source: (org.elasticsearch.common.io.stream.ByteBufferStreamInput); line: 1, column: 2]\"}],\"type\":\"json_parse_exception\",\"reason\":\"Unexpected character (''' (code 39)): expected a valid value (JSON String, Number, Array, Object or token 'null', 'true' or 'false')\\n at [Source: (org.elasticsearch.common.io.stream.ByteBufferStreamInput); line: 1, column: 2]\"},\"status\":400}\n"
     ]
    }
   ],
   "source": [
    "!curl -s -XPUT localhost:9200/_cluster/settings -H \"Content-Type: application/json\" -d '{ \"persistent\": { \"cluster.max_shards_per_node\": \"3000\" } }'"
   ]
  },
  {
   "cell_type": "code",
   "execution_count": 33,
   "id": "615a0da9-08e3-4751-a2a3-a922606e4640",
   "metadata": {},
   "outputs": [
    {
     "name": "stdout",
     "output_type": "stream",
     "text": [
      "{\"indices\":{\"shards\":{\"total\":1502}}}\n"
     ]
    }
   ],
   "source": [
    "!curl -s -XGET localhost:9200/_cluster/stats?filter_path=indices.shards.total"
   ]
  },
  {
   "cell_type": "code",
   "execution_count": null,
   "id": "4bb659bd-ee99-4297-8df7-8ea2990f2ba4",
   "metadata": {},
   "outputs": [],
   "source": []
  }
 ],
 "metadata": {
  "kernelspec": {
   "display_name": "Python 3 (ipykernel)",
   "language": "python",
   "name": "python3"
  },
  "language_info": {
   "codemirror_mode": {
    "name": "ipython",
    "version": 3
   },
   "file_extension": ".py",
   "mimetype": "text/x-python",
   "name": "python",
   "nbconvert_exporter": "python",
   "pygments_lexer": "ipython3",
   "version": "3.8.10"
  }
 },
 "nbformat": 4,
 "nbformat_minor": 5
}

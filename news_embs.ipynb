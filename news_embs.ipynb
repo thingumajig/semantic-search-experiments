{
 "cells": [
  {
   "cell_type": "code",
   "execution_count": 1,
   "id": "a88aa61f-7bdb-4272-ab04-e33b4837ce47",
   "metadata": {},
   "outputs": [
    {
     "name": "stdout",
     "output_type": "stream",
     "text": [
      "Python 3.8.10\n"
     ]
    }
   ],
   "source": [
    "!python --version"
   ]
  },
  {
   "cell_type": "code",
   "execution_count": null,
   "id": "ff101089-0cd9-44d7-9961-a076b40b27bd",
   "metadata": {},
   "outputs": [],
   "source": [
    "# !poetry remove pandas"
   ]
  },
  {
   "cell_type": "code",
   "execution_count": 11,
   "id": "bd77ad27-2939-4d9c-8b0e-cefca8ab3833",
   "metadata": {},
   "outputs": [
    {
     "name": "stdout",
     "output_type": "stream",
     "text": [
      "The following packages are already present in the pyproject.toml and will be skipped:\n",
      "\n",
      "  • openpyxl\n",
      "\n",
      "If you want to update it to the latest compatible version, you can use `poetry update package`.\n",
      "If you prefer to upgrade it to the latest available version, you can use `poetry add package@latest`.\n",
      "\n",
      "\n",
      "Updating dependencies\n",
      "Resolving dependencies...\n",
      "\n",
      "Writing lock file\n",
      "\n",
      "Package operations: 1 install, 0 updates, 0 removals\n",
      "\n",
      "  • Installing pandas (1.2.5)\n"
     ]
    }
   ],
   "source": [
    "\n",
    "# !poetry add tensorflow=2.5 tensorflow-text=2.5 tensorflow-hub \n",
    "# numpy=1.19.3 \n",
    "# pandas==1.2.5 openpyxl\n",
    "\n",
    "!poetry add pandas==1.2.5 openpyxl"
   ]
  },
  {
   "cell_type": "code",
   "execution_count": 2,
   "id": "ce38e155-0d20-4a96-b582-2f119a88c7d0",
   "metadata": {},
   "outputs": [],
   "source": [
    "import tensorflow_hub as hub\n",
    "import numpy as np\n",
    "import tensorflow_text"
   ]
  },
  {
   "cell_type": "code",
   "execution_count": 3,
   "id": "374525f4-f4e4-42a5-a2d0-f8480cf320f3",
   "metadata": {},
   "outputs": [],
   "source": [
    "# Some texts of different lengths.\n",
    "english_sentences = [\"dog\", \"Puppies are nice.\", \"I enjoy taking long walks along the beach with my dog.\"]\n",
    "italian_sentences = [\"cane\", \"I cuccioli sono carini.\", \"Mi piace fare lunghe passeggiate lungo la spiaggia con il mio cane.\"]\n",
    "japanese_sentences = [\"犬\", \"子犬はいいです\", \"私は犬と一緒にビーチを散歩するのが好きです\"]\n",
    "\n",
    "embed = hub.load(\"https://tfhub.dev/google/universal-sentence-encoder-multilingual/3\")"
   ]
  },
  {
   "cell_type": "code",
   "execution_count": 4,
   "id": "da1d913c-0989-4065-9346-8a0ffbe8a81e",
   "metadata": {},
   "outputs": [],
   "source": [
    "# Compute embeddings.\n",
    "en_result = embed(english_sentences)\n",
    "it_result = embed(italian_sentences)\n",
    "ja_result = embed(japanese_sentences)"
   ]
  },
  {
   "cell_type": "code",
   "execution_count": 1,
   "id": "09bd0540-fa37-4150-a799-7bc3de36d297",
   "metadata": {},
   "outputs": [
    {
     "ename": "NameError",
     "evalue": "name 'en_result' is not defined",
     "output_type": "error",
     "traceback": [
      "\u001b[1;31m---------------------------------------------------------------------------\u001b[0m",
      "\u001b[1;31mNameError\u001b[0m                                 Traceback (most recent call last)",
      "Input \u001b[1;32mIn [1]\u001b[0m, in \u001b[0;36m<cell line: 1>\u001b[1;34m()\u001b[0m\n\u001b[1;32m----> 1\u001b[0m \u001b[43men_result\u001b[49m\u001b[38;5;241m.\u001b[39mnumpy()[\u001b[38;5;241m0\u001b[39m]\n",
      "\u001b[1;31mNameError\u001b[0m: name 'en_result' is not defined"
     ]
    }
   ],
   "source": [
    "en_result.numpy()[0]"
   ]
  },
  {
   "cell_type": "code",
   "execution_count": 6,
   "id": "7335aa43-64d4-4962-a418-4ebe260e790d",
   "metadata": {},
   "outputs": [],
   "source": [
    "# Compute similarity matrix. Higher score indicates greater similarity.\n",
    "similarity_matrix_it = np.inner(en_result, it_result)\n",
    "similarity_matrix_ja = np.inner(en_result, ja_result)"
   ]
  },
  {
   "cell_type": "code",
   "execution_count": 7,
   "id": "72ef62e7-93f4-4901-855c-2f727a9e1db6",
   "metadata": {},
   "outputs": [
    {
     "data": {
      "text/plain": [
       "array([[0.9578779 , 0.3308629 , 0.30247942],\n",
       "       [0.38761464, 0.73392963, 0.24814035],\n",
       "       [0.2361753 , 0.21800497, 0.9283011 ]], dtype=float32)"
      ]
     },
     "execution_count": 7,
     "metadata": {},
     "output_type": "execute_result"
    }
   ],
   "source": [
    "similarity_matrix_it"
   ]
  },
  {
   "cell_type": "code",
   "execution_count": 12,
   "id": "b86ac2e8-60af-4e00-b992-badfc4e4957c",
   "metadata": {},
   "outputs": [],
   "source": [
    "import pandas as pd"
   ]
  },
  {
   "cell_type": "code",
   "execution_count": 13,
   "id": "5a956c2a-d971-493a-939a-a221b54dfb0b",
   "metadata": {},
   "outputs": [
    {
     "data": {
      "text/html": [
       "<div>\n",
       "<style scoped>\n",
       "    .dataframe tbody tr th:only-of-type {\n",
       "        vertical-align: middle;\n",
       "    }\n",
       "\n",
       "    .dataframe tbody tr th {\n",
       "        vertical-align: top;\n",
       "    }\n",
       "\n",
       "    .dataframe thead th {\n",
       "        text-align: right;\n",
       "    }\n",
       "</style>\n",
       "<table border=\"1\" class=\"dataframe\">\n",
       "  <thead>\n",
       "    <tr style=\"text-align: right;\">\n",
       "      <th></th>\n",
       "      <th>ID</th>\n",
       "      <th>NEWS_HEAD</th>\n",
       "    </tr>\n",
       "  </thead>\n",
       "  <tbody>\n",
       "    <tr>\n",
       "      <th>0</th>\n",
       "      <td>1552621575</td>\n",
       "      <td>Государственная Дума рекомендует Правительству...</td>\n",
       "    </tr>\n",
       "    <tr>\n",
       "      <th>1</th>\n",
       "      <td>1552115547</td>\n",
       "      <td>Евгений Грабчак: «Меры поддержки помогут ТЭК о...</td>\n",
       "    </tr>\n",
       "    <tr>\n",
       "      <th>2</th>\n",
       "      <td>1552115549</td>\n",
       "      <td>Павел Сниккарс: «Важная задача в электроэнерге...</td>\n",
       "    </tr>\n",
       "    <tr>\n",
       "      <th>3</th>\n",
       "      <td>1551704812</td>\n",
       "      <td>Вниманию гарантирующих поставщиков и энергосбы...</td>\n",
       "    </tr>\n",
       "    <tr>\n",
       "      <th>4</th>\n",
       "      <td>1551704814</td>\n",
       "      <td>Эдуард Шереметцев: «Национальная энергетическа...</td>\n",
       "    </tr>\n",
       "  </tbody>\n",
       "</table>\n",
       "</div>"
      ],
      "text/plain": [
       "           ID                                          NEWS_HEAD\n",
       "0  1552621575  Государственная Дума рекомендует Правительству...\n",
       "1  1552115547  Евгений Грабчак: «Меры поддержки помогут ТЭК о...\n",
       "2  1552115549  Павел Сниккарс: «Важная задача в электроэнерге...\n",
       "3  1551704812  Вниманию гарантирующих поставщиков и энергосбы...\n",
       "4  1551704814  Эдуард Шереметцев: «Национальная энергетическа..."
      ]
     },
     "execution_count": 13,
     "metadata": {},
     "output_type": "execute_result"
    }
   ],
   "source": [
    "df = pd.read_excel(\"ЭТ_Новости.xlsx\")\n",
    "df.head()"
   ]
  },
  {
   "cell_type": "code",
   "execution_count": 8,
   "id": "e3acc716-7476-44d8-8b8f-a7c42d6dd8d0",
   "metadata": {},
   "outputs": [
    {
     "name": "stdout",
     "output_type": "stream",
     "text": [
      "Wall time: 10.8 s\n"
     ]
    }
   ],
   "source": [
    "%%time\n",
    "df[\"emb\"] = df[\"NEWS_HEAD\"].apply(lambda x: embed(x).numpy()[0])"
   ]
  },
  {
   "cell_type": "code",
   "execution_count": 9,
   "id": "e995981a-c11d-4eec-bad2-6e29b9481804",
   "metadata": {},
   "outputs": [],
   "source": [
    "df.to_pickle(\"../News+emb.pkl\")"
   ]
  },
  {
   "cell_type": "code",
   "execution_count": null,
   "id": "ffb05bf3-41fe-4b6d-80b8-21259684e2e2",
   "metadata": {},
   "outputs": [],
   "source": []
  }
 ],
 "metadata": {
  "kernelspec": {
   "display_name": "Python 3 (ipykernel)",
   "language": "python",
   "name": "python3"
  },
  "language_info": {
   "codemirror_mode": {
    "name": "ipython",
    "version": 3
   },
   "file_extension": ".py",
   "mimetype": "text/x-python",
   "name": "python",
   "nbconvert_exporter": "python",
   "pygments_lexer": "ipython3",
   "version": "3.8.10"
  }
 },
 "nbformat": 4,
 "nbformat_minor": 5
}

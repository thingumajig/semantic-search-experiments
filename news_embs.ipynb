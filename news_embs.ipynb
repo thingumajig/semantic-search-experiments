{
 "cells": [
  {
   "cell_type": "code",
   "execution_count": 1,
   "id": "a88aa61f-7bdb-4272-ab04-e33b4837ce47",
   "metadata": {},
   "outputs": [
    {
     "name": "stdout",
     "output_type": "stream",
     "text": [
      "Python 3.8.0\n"
     ]
    }
   ],
   "source": [
    "!python --version"
   ]
  },
  {
   "cell_type": "code",
   "execution_count": 2,
   "id": "ff101089-0cd9-44d7-9961-a076b40b27bd",
   "metadata": {},
   "outputs": [],
   "source": [
    "# !poetry remove pandas"
   ]
  },
  {
   "cell_type": "code",
   "execution_count": 3,
   "id": "bd77ad27-2939-4d9c-8b0e-cefca8ab3833",
   "metadata": {},
   "outputs": [
    {
     "name": "stdout",
     "output_type": "stream",
     "text": [
      "^C\n"
     ]
    }
   ],
   "source": [
    "\n",
    "# !poetry add tensorflow=2.5 tensorflow-text=2.5 tensorflow-hub \n",
    "# numpy=1.19.3 \n",
    "# pandas==1.2.5 openpyxl\n",
    "\n",
    "!poetry add pandas==1.2.5 openpyxl"
   ]
  },
  {
   "cell_type": "code",
   "execution_count": 1,
   "id": "ce38e155-0d20-4a96-b582-2f119a88c7d0",
   "metadata": {},
   "outputs": [],
   "source": [
    "import tensorflow_hub as hub\n",
    "import numpy as np\n",
    "import tensorflow_text\n",
    "\n",
    "from scipy import spatial"
   ]
  },
  {
   "cell_type": "code",
   "execution_count": 2,
   "id": "374525f4-f4e4-42a5-a2d0-f8480cf320f3",
   "metadata": {},
   "outputs": [],
   "source": [
    "# Some texts of different lengths.\n",
    "english_sentences = [\"dog\", \"Puppies are nice.\", \"I enjoy taking long walks along the beach with my dog.\"]\n",
    "italian_sentences = [\"cane\", \"I cuccioli sono carini.\", \"Mi piace fare lunghe passeggiate lungo la spiaggia con il mio cane.\"]\n",
    "japanese_sentences = [\"犬\", \"子犬はいいです\", \"私は犬と一緒にビーチを散歩するのが好きです\"]\n",
    "\n",
    "embed = hub.load(\"https://tfhub.dev/google/universal-sentence-encoder-multilingual/3\")"
   ]
  },
  {
   "cell_type": "code",
   "execution_count": 3,
   "id": "da1d913c-0989-4065-9346-8a0ffbe8a81e",
   "metadata": {},
   "outputs": [],
   "source": [
    "# Compute embeddings.\n",
    "en_result = embed(english_sentences)\n",
    "it_result = embed(italian_sentences)\n",
    "ja_result = embed(japanese_sentences)"
   ]
  },
  {
   "cell_type": "code",
   "execution_count": 4,
   "id": "09bd0540-fa37-4150-a799-7bc3de36d297",
   "metadata": {
    "tags": []
   },
   "outputs": [
    {
     "data": {
      "text/plain": [
       "(3, 512)"
      ]
     },
     "execution_count": 4,
     "metadata": {},
     "output_type": "execute_result"
    }
   ],
   "source": [
    "en_result.numpy().shape"
   ]
  },
  {
   "cell_type": "code",
   "execution_count": 5,
   "id": "7335aa43-64d4-4962-a418-4ebe260e790d",
   "metadata": {},
   "outputs": [],
   "source": [
    "# Compute similarity matrix. Higher score indicates greater similarity.\n",
    "similarity_matrix_it = np.inner(en_result, it_result)\n",
    "similarity_matrix_ja = np.inner(en_result, ja_result)"
   ]
  },
  {
   "cell_type": "code",
   "execution_count": 6,
   "id": "72ef62e7-93f4-4901-855c-2f727a9e1db6",
   "metadata": {},
   "outputs": [
    {
     "data": {
      "text/plain": [
       "array([[0.957878  , 0.3308628 , 0.30247933],\n",
       "       [0.38761458, 0.73392963, 0.2481403 ],\n",
       "       [0.23617546, 0.21800505, 0.92830104]], dtype=float32)"
      ]
     },
     "execution_count": 6,
     "metadata": {},
     "output_type": "execute_result"
    }
   ],
   "source": [
    "similarity_matrix_it"
   ]
  },
  {
   "cell_type": "code",
   "execution_count": 7,
   "id": "b86ac2e8-60af-4e00-b992-badfc4e4957c",
   "metadata": {},
   "outputs": [],
   "source": [
    "import pandas as pd"
   ]
  },
  {
   "cell_type": "code",
   "execution_count": 8,
   "id": "5a956c2a-d971-493a-939a-a221b54dfb0b",
   "metadata": {},
   "outputs": [
    {
     "data": {
      "text/html": [
       "<div>\n",
       "<style scoped>\n",
       "    .dataframe tbody tr th:only-of-type {\n",
       "        vertical-align: middle;\n",
       "    }\n",
       "\n",
       "    .dataframe tbody tr th {\n",
       "        vertical-align: top;\n",
       "    }\n",
       "\n",
       "    .dataframe thead th {\n",
       "        text-align: right;\n",
       "    }\n",
       "</style>\n",
       "<table border=\"1\" class=\"dataframe\">\n",
       "  <thead>\n",
       "    <tr style=\"text-align: right;\">\n",
       "      <th></th>\n",
       "      <th>ID</th>\n",
       "      <th>NEWS_HEAD</th>\n",
       "    </tr>\n",
       "  </thead>\n",
       "  <tbody>\n",
       "    <tr>\n",
       "      <th>0</th>\n",
       "      <td>1552621575</td>\n",
       "      <td>Государственная Дума рекомендует Правительству...</td>\n",
       "    </tr>\n",
       "    <tr>\n",
       "      <th>1</th>\n",
       "      <td>1552115547</td>\n",
       "      <td>Евгений Грабчак: «Меры поддержки помогут ТЭК о...</td>\n",
       "    </tr>\n",
       "    <tr>\n",
       "      <th>2</th>\n",
       "      <td>1552115549</td>\n",
       "      <td>Павел Сниккарс: «Важная задача в электроэнерге...</td>\n",
       "    </tr>\n",
       "    <tr>\n",
       "      <th>3</th>\n",
       "      <td>1551704812</td>\n",
       "      <td>Вниманию гарантирующих поставщиков и энергосбы...</td>\n",
       "    </tr>\n",
       "    <tr>\n",
       "      <th>4</th>\n",
       "      <td>1551704814</td>\n",
       "      <td>Эдуард Шереметцев: «Национальная энергетическа...</td>\n",
       "    </tr>\n",
       "  </tbody>\n",
       "</table>\n",
       "</div>"
      ],
      "text/plain": [
       "           ID                                          NEWS_HEAD\n",
       "0  1552621575  Государственная Дума рекомендует Правительству...\n",
       "1  1552115547  Евгений Грабчак: «Меры поддержки помогут ТЭК о...\n",
       "2  1552115549  Павел Сниккарс: «Важная задача в электроэнерге...\n",
       "3  1551704812  Вниманию гарантирующих поставщиков и энергосбы...\n",
       "4  1551704814  Эдуард Шереметцев: «Национальная энергетическа..."
      ]
     },
     "execution_count": 8,
     "metadata": {},
     "output_type": "execute_result"
    }
   ],
   "source": [
    "df = pd.read_excel(\"ЭТ_Новости.xlsx\")\n",
    "df.head()"
   ]
  },
  {
   "cell_type": "code",
   "execution_count": 9,
   "id": "e3acc716-7476-44d8-8b8f-a7c42d6dd8d0",
   "metadata": {},
   "outputs": [
    {
     "name": "stdout",
     "output_type": "stream",
     "text": [
      "Wall time: 9.89 s\n"
     ]
    }
   ],
   "source": [
    "%%time\n",
    "df[\"emb\"] = df[\"NEWS_HEAD\"].apply(lambda x: embed(x).numpy()[0])"
   ]
  },
  {
   "cell_type": "code",
   "execution_count": 10,
   "id": "3630973e-017e-4987-bdec-b10025c64d34",
   "metadata": {},
   "outputs": [
    {
     "data": {
      "text/html": [
       "<div>\n",
       "<style scoped>\n",
       "    .dataframe tbody tr th:only-of-type {\n",
       "        vertical-align: middle;\n",
       "    }\n",
       "\n",
       "    .dataframe tbody tr th {\n",
       "        vertical-align: top;\n",
       "    }\n",
       "\n",
       "    .dataframe thead th {\n",
       "        text-align: right;\n",
       "    }\n",
       "</style>\n",
       "<table border=\"1\" class=\"dataframe\">\n",
       "  <thead>\n",
       "    <tr style=\"text-align: right;\">\n",
       "      <th></th>\n",
       "      <th>ID</th>\n",
       "      <th>NEWS_HEAD</th>\n",
       "      <th>emb</th>\n",
       "    </tr>\n",
       "  </thead>\n",
       "  <tbody>\n",
       "    <tr>\n",
       "      <th>0</th>\n",
       "      <td>1552621575</td>\n",
       "      <td>Государственная Дума рекомендует Правительству...</td>\n",
       "      <td>[6.6673114e-05, 0.02740392, -0.033854015, -0.0...</td>\n",
       "    </tr>\n",
       "    <tr>\n",
       "      <th>1</th>\n",
       "      <td>1552115547</td>\n",
       "      <td>Евгений Грабчак: «Меры поддержки помогут ТЭК о...</td>\n",
       "      <td>[0.014879701, -0.0015657819, 0.031823713, -0.0...</td>\n",
       "    </tr>\n",
       "    <tr>\n",
       "      <th>2</th>\n",
       "      <td>1552115549</td>\n",
       "      <td>Павел Сниккарс: «Важная задача в электроэнерге...</td>\n",
       "      <td>[-0.024322681, 0.063832596, 0.006030567, -0.04...</td>\n",
       "    </tr>\n",
       "    <tr>\n",
       "      <th>3</th>\n",
       "      <td>1551704812</td>\n",
       "      <td>Вниманию гарантирующих поставщиков и энергосбы...</td>\n",
       "      <td>[0.029627595, 0.06477559, -0.015955612, 0.0087...</td>\n",
       "    </tr>\n",
       "    <tr>\n",
       "      <th>4</th>\n",
       "      <td>1551704814</td>\n",
       "      <td>Эдуард Шереметцев: «Национальная энергетическа...</td>\n",
       "      <td>[-0.028674196, -0.037707165, -0.0035214513, -0...</td>\n",
       "    </tr>\n",
       "  </tbody>\n",
       "</table>\n",
       "</div>"
      ],
      "text/plain": [
       "           ID                                          NEWS_HEAD  \\\n",
       "0  1552621575  Государственная Дума рекомендует Правительству...   \n",
       "1  1552115547  Евгений Грабчак: «Меры поддержки помогут ТЭК о...   \n",
       "2  1552115549  Павел Сниккарс: «Важная задача в электроэнерге...   \n",
       "3  1551704812  Вниманию гарантирующих поставщиков и энергосбы...   \n",
       "4  1551704814  Эдуард Шереметцев: «Национальная энергетическа...   \n",
       "\n",
       "                                                 emb  \n",
       "0  [6.6673114e-05, 0.02740392, -0.033854015, -0.0...  \n",
       "1  [0.014879701, -0.0015657819, 0.031823713, -0.0...  \n",
       "2  [-0.024322681, 0.063832596, 0.006030567, -0.04...  \n",
       "3  [0.029627595, 0.06477559, -0.015955612, 0.0087...  \n",
       "4  [-0.028674196, -0.037707165, -0.0035214513, -0...  "
      ]
     },
     "execution_count": 10,
     "metadata": {},
     "output_type": "execute_result"
    }
   ],
   "source": [
    "df.head()"
   ]
  },
  {
   "cell_type": "code",
   "execution_count": 12,
   "id": "e995981a-c11d-4eec-bad2-6e29b9481804",
   "metadata": {},
   "outputs": [],
   "source": [
    "df.to_pickle(\"../News+emb.pkl\")"
   ]
  },
  {
   "cell_type": "code",
   "execution_count": 13,
   "id": "8cabbfc8-bab2-419c-a997-3075cd96a940",
   "metadata": {},
   "outputs": [
    {
     "data": {
      "text/plain": [
       "(1975, 512)"
      ]
     },
     "execution_count": 13,
     "metadata": {},
     "output_type": "execute_result"
    }
   ],
   "source": [
    "emb_ar = np.stack(df.emb.to_numpy())\n",
    "emb_ar.shape"
   ]
  },
  {
   "cell_type": "code",
   "execution_count": 15,
   "id": "8de7b957-8cb9-459d-bf0a-2d0dc54d0a82",
   "metadata": {},
   "outputs": [],
   "source": [
    "def get_closest_to_text(text, df):\n",
    "    print(f\"Input string:\\n{text}\\n\")\n",
    "    emb_ar = np.stack(df.emb.to_numpy())\n",
    "    text_emb = embed(text)\n",
    "    cos_dist = np.array([1-spatial.distance.cosine(text_emb, x) for x in emb_ar])\n",
    "    print(\"Closest record:\")\n",
    "    return df.iloc[np.argmax(cos_dist)]"
   ]
  },
  {
   "cell_type": "code",
   "execution_count": 16,
   "id": "ffb05bf3-41fe-4b6d-80b8-21259684e2e2",
   "metadata": {},
   "outputs": [
    {
     "name": "stdout",
     "output_type": "stream",
     "text": [
      "Input string:\n",
      "Государственная Дума рекомендует Правительству РФ, несмотря на кризис, вызванный санкциями недружественных стран, сохранить рыночное ценообразование на нефтепродукты и электроэнергию на внутреннем рынке и продолжить разработку мер поддержки новых отраслей ТЭК, связанных с переходом на низкоуглеродную траекторию развития экономики.\n",
      "\n",
      "Closest record:\n"
     ]
    },
    {
     "data": {
      "text/plain": [
       "ID                                                  1552621575\n",
       "NEWS_HEAD    Государственная Дума рекомендует Правительству...\n",
       "emb          [6.6673114e-05, 0.02740392, -0.033854015, -0.0...\n",
       "Name: 0, dtype: object"
      ]
     },
     "execution_count": 16,
     "metadata": {},
     "output_type": "execute_result"
    }
   ],
   "source": [
    "get_closest_to_text(df.iloc[0].NEWS_HEAD, df)"
   ]
  },
  {
   "cell_type": "code",
   "execution_count": 17,
   "id": "f3639b0b-d9a4-4346-b535-2ca5118034a9",
   "metadata": {},
   "outputs": [
    {
     "name": "stdout",
     "output_type": "stream",
     "text": [
      "Input string:\n",
      "Павел Сниккарс: «Важная задача в электроэнергетике в период высокой турбулентности – сохранить отлаженные за 10 лет механизмы»\n",
      "\n",
      "Closest record:\n"
     ]
    },
    {
     "data": {
      "text/plain": [
       "ID                                                  1552115549\n",
       "NEWS_HEAD    Павел Сниккарс: «Важная задача в электроэнерге...\n",
       "emb          [-0.024322681, 0.063832596, 0.006030567, -0.04...\n",
       "Name: 2, dtype: object"
      ]
     },
     "execution_count": 17,
     "metadata": {},
     "output_type": "execute_result"
    }
   ],
   "source": [
    "get_closest_to_text(df.iloc[2].NEWS_HEAD, df)"
   ]
  },
  {
   "cell_type": "code",
   "execution_count": 24,
   "id": "20092086-3773-4067-a898-b6c2027fcbdd",
   "metadata": {},
   "outputs": [
    {
     "name": "stdout",
     "output_type": "stream",
     "text": [
      "Input string:\n",
      "ФАС определила задачи совершенствования тарифного регулирования\n",
      "\n",
      "Closest record:\n"
     ]
    },
    {
     "data": {
      "text/plain": [
       "ID                                                  1546783300\n",
       "NEWS_HEAD    ФАС определила задачи совершенствования тарифн...\n",
       "emb          [0.09777064, 0.026426591, 0.051717404, -0.0283...\n",
       "Name: 18, dtype: object"
      ]
     },
     "execution_count": 24,
     "metadata": {},
     "output_type": "execute_result"
    }
   ],
   "source": [
    "get_closest_to_text(df.iloc[18].NEWS_HEAD, df)"
   ]
  },
  {
   "cell_type": "code",
   "execution_count": 23,
   "id": "8b9d6fe3-d064-4a07-94d2-6b8232bc365d",
   "metadata": {},
   "outputs": [
    {
     "name": "stdout",
     "output_type": "stream",
     "text": [
      "Input string:\n",
      "ФАС определила задачи совершенствования тарифного регулирования\n",
      "\n",
      "Closest record:\n"
     ]
    },
    {
     "data": {
      "text/plain": [
       "ID                                                  1546783300\n",
       "NEWS_HEAD    ФАС определила задачи совершенствования тарифн...\n",
       "emb          [0.09777064, 0.026426591, 0.051717404, -0.0283...\n",
       "Name: 18, dtype: object"
      ]
     },
     "execution_count": 23,
     "metadata": {},
     "output_type": "execute_result"
    }
   ],
   "source": [
    "get_closest_to_text(df.iloc[19].NEWS_HEAD, df)"
   ]
  },
  {
   "cell_type": "code",
   "execution_count": 18,
   "id": "5c8f3497-8910-473e-bfed-5438d2fc9734",
   "metadata": {},
   "outputs": [
    {
     "name": "stdout",
     "output_type": "stream",
     "text": [
      "Input string:\n",
      "Уведомление для ООО \"Грин Энерджи Рус\"! Информация о максимально допустимых величинах потребления на собственные нужды электростанций на 2021 год!\n",
      "\n",
      "Closest record:\n"
     ]
    },
    {
     "data": {
      "text/plain": [
       "ID                                                  1497423434\n",
       "NEWS_HEAD    Уведомление для ООО \"Грин Энерджи Рус\"! Информ...\n",
       "emb          [-0.006868089, -0.011465344, 0.038518388, -0.0...\n",
       "Name: 142, dtype: object"
      ]
     },
     "execution_count": 18,
     "metadata": {},
     "output_type": "execute_result"
    }
   ],
   "source": [
    "get_closest_to_text(df.iloc[142].NEWS_HEAD, df)"
   ]
  },
  {
   "cell_type": "code",
   "execution_count": 19,
   "id": "cee86bd6-09dd-4540-a5a5-40d6b936fa7c",
   "metadata": {},
   "outputs": [
    {
     "name": "stdout",
     "output_type": "stream",
     "text": [
      "Input string:\n",
      "I love pizza\n",
      "\n",
      "Closest record:\n"
     ]
    },
    {
     "data": {
      "text/plain": [
       "ID                                                  1506307579\n",
       "NEWS_HEAD                                   С Днем энергетика!\n",
       "emb          [0.03395263, 0.027581275, -0.021881483, 0.0482...\n",
       "Name: 124, dtype: object"
      ]
     },
     "execution_count": 19,
     "metadata": {},
     "output_type": "execute_result"
    }
   ],
   "source": [
    "get_closest_to_text(\"I love pizza\", df)"
   ]
  }
 ],
 "metadata": {
  "kernelspec": {
   "display_name": "Python 3 (ipykernel)",
   "language": "python",
   "name": "python3"
  },
  "language_info": {
   "codemirror_mode": {
    "name": "ipython",
    "version": 3
   },
   "file_extension": ".py",
   "mimetype": "text/x-python",
   "name": "python",
   "nbconvert_exporter": "python",
   "pygments_lexer": "ipython3",
   "version": "3.8.0"
  }
 },
 "nbformat": 4,
 "nbformat_minor": 5
}

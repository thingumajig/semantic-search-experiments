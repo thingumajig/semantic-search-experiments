{
 "cells": [
  {
   "cell_type": "code",
   "execution_count": 1,
   "id": "a88aa61f-7bdb-4272-ab04-e33b4837ce47",
   "metadata": {},
   "outputs": [
    {
     "name": "stdout",
     "output_type": "stream",
     "text": [
      "Python 3.8.0\n"
     ]
    }
   ],
   "source": [
    "!python --version"
   ]
  },
  {
   "cell_type": "code",
   "execution_count": 2,
   "id": "ff101089-0cd9-44d7-9961-a076b40b27bd",
   "metadata": {},
   "outputs": [],
   "source": [
    "# !poetry remove pandas"
   ]
  },
  {
   "cell_type": "code",
   "execution_count": 3,
   "id": "bd77ad27-2939-4d9c-8b0e-cefca8ab3833",
   "metadata": {},
   "outputs": [
    {
     "name": "stdout",
     "output_type": "stream",
     "text": [
      "^C\n"
     ]
    }
   ],
   "source": [
    "\n",
    "# !poetry add tensorflow=2.5 tensorflow-text=2.5 tensorflow-hub \n",
    "# numpy=1.19.3 \n",
    "# pandas==1.2.5 openpyxl\n",
    "\n",
    "!poetry add pandas==1.2.5 openpyxl"
   ]
  },
  {
   "cell_type": "code",
   "execution_count": 1,
   "id": "ce38e155-0d20-4a96-b582-2f119a88c7d0",
   "metadata": {},
   "outputs": [],
   "source": [
    "import tensorflow_hub as hub\n",
    "import numpy as np\n",
    "import tensorflow_text\n",
    "\n",
    "from scipy import spatial"
   ]
  },
  {
   "cell_type": "code",
   "execution_count": 2,
   "id": "374525f4-f4e4-42a5-a2d0-f8480cf320f3",
   "metadata": {},
   "outputs": [],
   "source": [
    "# Some texts of different lengths.\n",
    "english_sentences = [\"dog\", \"Puppies are nice.\", \"I enjoy taking long walks along the beach with my dog.\"]\n",
    "italian_sentences = [\"cane\", \"I cuccioli sono carini.\", \"Mi piace fare lunghe passeggiate lungo la spiaggia con il mio cane.\"]\n",
    "japanese_sentences = [\"犬\", \"子犬はいいです\", \"私は犬と一緒にビーチを散歩するのが好きです\"]\n",
    "\n",
    "embed = hub.load(\"https://tfhub.dev/google/universal-sentence-encoder-multilingual/3\")"
   ]
  },
  {
   "cell_type": "code",
   "execution_count": 3,
   "id": "da1d913c-0989-4065-9346-8a0ffbe8a81e",
   "metadata": {},
   "outputs": [],
   "source": [
    "# Compute embeddings.\n",
    "en_result = embed(english_sentences)\n",
    "it_result = embed(italian_sentences)\n",
    "ja_result = embed(japanese_sentences)"
   ]
  },
  {
   "cell_type": "code",
   "execution_count": 4,
   "id": "09bd0540-fa37-4150-a799-7bc3de36d297",
   "metadata": {
    "tags": []
   },
   "outputs": [
    {
     "data": {
      "text/plain": [
       "(3, 512)"
      ]
     },
     "execution_count": 4,
     "metadata": {},
     "output_type": "execute_result"
    }
   ],
   "source": [
    "en_result.numpy().shape"
   ]
  },
  {
   "cell_type": "code",
   "execution_count": 5,
   "id": "7335aa43-64d4-4962-a418-4ebe260e790d",
   "metadata": {},
   "outputs": [],
   "source": [
    "# Compute similarity matrix. Higher score indicates greater similarity.\n",
    "similarity_matrix_it = np.inner(en_result, it_result)\n",
    "similarity_matrix_ja = np.inner(en_result, ja_result)"
   ]
  },
  {
   "cell_type": "code",
   "execution_count": 6,
   "id": "72ef62e7-93f4-4901-855c-2f727a9e1db6",
   "metadata": {},
   "outputs": [
    {
     "data": {
      "text/plain": [
       "array([[0.957878  , 0.3308628 , 0.30247933],\n",
       "       [0.38761458, 0.73392963, 0.2481403 ],\n",
       "       [0.23617546, 0.21800505, 0.92830104]], dtype=float32)"
      ]
     },
     "execution_count": 6,
     "metadata": {},
     "output_type": "execute_result"
    }
   ],
   "source": [
    "similarity_matrix_it"
   ]
  },
  {
   "cell_type": "code",
   "execution_count": 7,
   "id": "b86ac2e8-60af-4e00-b992-badfc4e4957c",
   "metadata": {},
   "outputs": [],
   "source": [
    "import pandas as pd"
   ]
  },
  {
   "cell_type": "code",
   "execution_count": 8,
   "id": "5a956c2a-d971-493a-939a-a221b54dfb0b",
   "metadata": {},
   "outputs": [
    {
     "data": {
      "text/html": [
       "<div>\n",
       "<style scoped>\n",
       "    .dataframe tbody tr th:only-of-type {\n",
       "        vertical-align: middle;\n",
       "    }\n",
       "\n",
       "    .dataframe tbody tr th {\n",
       "        vertical-align: top;\n",
       "    }\n",
       "\n",
       "    .dataframe thead th {\n",
       "        text-align: right;\n",
       "    }\n",
       "</style>\n",
       "<table border=\"1\" class=\"dataframe\">\n",
       "  <thead>\n",
       "    <tr style=\"text-align: right;\">\n",
       "      <th></th>\n",
       "      <th>ID</th>\n",
       "      <th>NEWS_HEAD</th>\n",
       "    </tr>\n",
       "  </thead>\n",
       "  <tbody>\n",
       "    <tr>\n",
       "      <th>0</th>\n",
       "      <td>1552621575</td>\n",
       "      <td>Государственная Дума рекомендует Правительству...</td>\n",
       "    </tr>\n",
       "    <tr>\n",
       "      <th>1</th>\n",
       "      <td>1552115547</td>\n",
       "      <td>Евгений Грабчак: «Меры поддержки помогут ТЭК о...</td>\n",
       "    </tr>\n",
       "    <tr>\n",
       "      <th>2</th>\n",
       "      <td>1552115549</td>\n",
       "      <td>Павел Сниккарс: «Важная задача в электроэнерге...</td>\n",
       "    </tr>\n",
       "    <tr>\n",
       "      <th>3</th>\n",
       "      <td>1551704812</td>\n",
       "      <td>Вниманию гарантирующих поставщиков и энергосбы...</td>\n",
       "    </tr>\n",
       "    <tr>\n",
       "      <th>4</th>\n",
       "      <td>1551704814</td>\n",
       "      <td>Эдуард Шереметцев: «Национальная энергетическа...</td>\n",
       "    </tr>\n",
       "  </tbody>\n",
       "</table>\n",
       "</div>"
      ],
      "text/plain": [
       "           ID                                          NEWS_HEAD\n",
       "0  1552621575  Государственная Дума рекомендует Правительству...\n",
       "1  1552115547  Евгений Грабчак: «Меры поддержки помогут ТЭК о...\n",
       "2  1552115549  Павел Сниккарс: «Важная задача в электроэнерге...\n",
       "3  1551704812  Вниманию гарантирующих поставщиков и энергосбы...\n",
       "4  1551704814  Эдуард Шереметцев: «Национальная энергетическа..."
      ]
     },
     "execution_count": 8,
     "metadata": {},
     "output_type": "execute_result"
    }
   ],
   "source": [
    "df = pd.read_excel(\"ЭТ_Новости.xlsx\")\n",
    "df.head()"
   ]
  },
  {
   "cell_type": "code",
   "execution_count": 9,
   "id": "e3acc716-7476-44d8-8b8f-a7c42d6dd8d0",
   "metadata": {},
   "outputs": [
    {
     "name": "stdout",
     "output_type": "stream",
     "text": [
      "Wall time: 10.2 s\n"
     ]
    }
   ],
   "source": [
    "%%time\n",
    "df[\"emb\"] = df[\"NEWS_HEAD\"].apply(lambda x: embed(x).numpy()[0])"
   ]
  },
  {
   "cell_type": "code",
   "execution_count": 10,
   "id": "3630973e-017e-4987-bdec-b10025c64d34",
   "metadata": {},
   "outputs": [
    {
     "data": {
      "text/html": [
       "<div>\n",
       "<style scoped>\n",
       "    .dataframe tbody tr th:only-of-type {\n",
       "        vertical-align: middle;\n",
       "    }\n",
       "\n",
       "    .dataframe tbody tr th {\n",
       "        vertical-align: top;\n",
       "    }\n",
       "\n",
       "    .dataframe thead th {\n",
       "        text-align: right;\n",
       "    }\n",
       "</style>\n",
       "<table border=\"1\" class=\"dataframe\">\n",
       "  <thead>\n",
       "    <tr style=\"text-align: right;\">\n",
       "      <th></th>\n",
       "      <th>ID</th>\n",
       "      <th>NEWS_HEAD</th>\n",
       "      <th>emb</th>\n",
       "    </tr>\n",
       "  </thead>\n",
       "  <tbody>\n",
       "    <tr>\n",
       "      <th>0</th>\n",
       "      <td>1552621575</td>\n",
       "      <td>Государственная Дума рекомендует Правительству...</td>\n",
       "      <td>[6.6673114e-05, 0.02740392, -0.033854015, -0.0...</td>\n",
       "    </tr>\n",
       "    <tr>\n",
       "      <th>1</th>\n",
       "      <td>1552115547</td>\n",
       "      <td>Евгений Грабчак: «Меры поддержки помогут ТЭК о...</td>\n",
       "      <td>[0.014879701, -0.0015657819, 0.031823713, -0.0...</td>\n",
       "    </tr>\n",
       "    <tr>\n",
       "      <th>2</th>\n",
       "      <td>1552115549</td>\n",
       "      <td>Павел Сниккарс: «Важная задача в электроэнерге...</td>\n",
       "      <td>[-0.024322681, 0.063832596, 0.006030567, -0.04...</td>\n",
       "    </tr>\n",
       "    <tr>\n",
       "      <th>3</th>\n",
       "      <td>1551704812</td>\n",
       "      <td>Вниманию гарантирующих поставщиков и энергосбы...</td>\n",
       "      <td>[0.029627595, 0.06477559, -0.015955612, 0.0087...</td>\n",
       "    </tr>\n",
       "    <tr>\n",
       "      <th>4</th>\n",
       "      <td>1551704814</td>\n",
       "      <td>Эдуард Шереметцев: «Национальная энергетическа...</td>\n",
       "      <td>[-0.028674196, -0.037707165, -0.0035214513, -0...</td>\n",
       "    </tr>\n",
       "  </tbody>\n",
       "</table>\n",
       "</div>"
      ],
      "text/plain": [
       "           ID                                          NEWS_HEAD  \\\n",
       "0  1552621575  Государственная Дума рекомендует Правительству...   \n",
       "1  1552115547  Евгений Грабчак: «Меры поддержки помогут ТЭК о...   \n",
       "2  1552115549  Павел Сниккарс: «Важная задача в электроэнерге...   \n",
       "3  1551704812  Вниманию гарантирующих поставщиков и энергосбы...   \n",
       "4  1551704814  Эдуард Шереметцев: «Национальная энергетическа...   \n",
       "\n",
       "                                                 emb  \n",
       "0  [6.6673114e-05, 0.02740392, -0.033854015, -0.0...  \n",
       "1  [0.014879701, -0.0015657819, 0.031823713, -0.0...  \n",
       "2  [-0.024322681, 0.063832596, 0.006030567, -0.04...  \n",
       "3  [0.029627595, 0.06477559, -0.015955612, 0.0087...  \n",
       "4  [-0.028674196, -0.037707165, -0.0035214513, -0...  "
      ]
     },
     "execution_count": 10,
     "metadata": {},
     "output_type": "execute_result"
    }
   ],
   "source": [
    "df.head()"
   ]
  },
  {
   "cell_type": "code",
   "execution_count": 11,
   "id": "e995981a-c11d-4eec-bad2-6e29b9481804",
   "metadata": {},
   "outputs": [],
   "source": [
    "df.to_pickle(\"../News+emb.pkl\")"
   ]
  },
  {
   "cell_type": "code",
   "execution_count": 12,
   "id": "8cabbfc8-bab2-419c-a997-3075cd96a940",
   "metadata": {},
   "outputs": [
    {
     "data": {
      "text/plain": [
       "(1975, 512)"
      ]
     },
     "execution_count": 12,
     "metadata": {},
     "output_type": "execute_result"
    }
   ],
   "source": [
    "emb_ar = np.stack(df.emb.to_numpy())\n",
    "emb_ar.shape"
   ]
  },
  {
   "cell_type": "code",
   "execution_count": 13,
   "id": "8de7b957-8cb9-459d-bf0a-2d0dc54d0a82",
   "metadata": {},
   "outputs": [],
   "source": [
    "def get_closest_to_text(text, df, topN=5):\n",
    "    print(f\"Input string:\\n{text}\\n\")\n",
    "    emb_ar = np.stack(df.emb.to_numpy())\n",
    "    text_emb = embed(text)\n",
    "    cos_dist = np.array([spatial.distance.cosine(text_emb, x) for x in emb_ar])\n",
    "    \n",
    "    print(\"Closest records:\")\n",
    "    top_args = np.argpartition(cos_dist, topN)[:topN]\n",
    "    n_df = df.copy().iloc[top_args,:]\n",
    "    n_df[\"score\"] = cos_dist[top_args]\n",
    "    return n_df.sort_values(\"score\", ascending=True)"
   ]
  },
  {
   "cell_type": "code",
   "execution_count": 14,
   "id": "ffb05bf3-41fe-4b6d-80b8-21259684e2e2",
   "metadata": {},
   "outputs": [
    {
     "name": "stdout",
     "output_type": "stream",
     "text": [
      "Input string:\n",
      "Государственная Дума рекомендует Правительству РФ, несмотря на кризис, вызванный санкциями недружественных стран, сохранить рыночное ценообразование на нефтепродукты и электроэнергию на внутреннем рынке и продолжить разработку мер поддержки новых отраслей ТЭК, связанных с переходом на низкоуглеродную траекторию развития экономики.\n",
      "\n",
      "Closest records:\n"
     ]
    },
    {
     "data": {
      "text/html": [
       "<div>\n",
       "<style scoped>\n",
       "    .dataframe tbody tr th:only-of-type {\n",
       "        vertical-align: middle;\n",
       "    }\n",
       "\n",
       "    .dataframe tbody tr th {\n",
       "        vertical-align: top;\n",
       "    }\n",
       "\n",
       "    .dataframe thead th {\n",
       "        text-align: right;\n",
       "    }\n",
       "</style>\n",
       "<table border=\"1\" class=\"dataframe\">\n",
       "  <thead>\n",
       "    <tr style=\"text-align: right;\">\n",
       "      <th></th>\n",
       "      <th>ID</th>\n",
       "      <th>NEWS_HEAD</th>\n",
       "      <th>emb</th>\n",
       "      <th>score</th>\n",
       "    </tr>\n",
       "  </thead>\n",
       "  <tbody>\n",
       "    <tr>\n",
       "      <th>0</th>\n",
       "      <td>1552621575</td>\n",
       "      <td>Государственная Дума рекомендует Правительству...</td>\n",
       "      <td>[6.6673114e-05, 0.02740392, -0.033854015, -0.0...</td>\n",
       "      <td>0.000000</td>\n",
       "    </tr>\n",
       "    <tr>\n",
       "      <th>1742</th>\n",
       "      <td>1100853539</td>\n",
       "      <td>Комитет Государственной Думы по энергетике про...</td>\n",
       "      <td>[-0.026314128, 0.07819955, -0.043848775, -0.01...</td>\n",
       "      <td>0.572938</td>\n",
       "    </tr>\n",
       "    <tr>\n",
       "      <th>1735</th>\n",
       "      <td>1100853537</td>\n",
       "      <td>Комитет Государственной Думы по энергетике про...</td>\n",
       "      <td>[-0.01887728, 0.07468432, -0.044374257, -0.024...</td>\n",
       "      <td>0.607846</td>\n",
       "    </tr>\n",
       "    <tr>\n",
       "      <th>531</th>\n",
       "      <td>1255968164</td>\n",
       "      <td>Павел Завальный: «Намерение ЕС форсировать эне...</td>\n",
       "      <td>[-0.005707043, -0.08757431, -0.029431945, -0.0...</td>\n",
       "      <td>0.610513</td>\n",
       "    </tr>\n",
       "    <tr>\n",
       "      <th>478</th>\n",
       "      <td>1353506324</td>\n",
       "      <td>Депутаты комитета Государственной Думы по энер...</td>\n",
       "      <td>[-0.025714297, 0.02512893, -0.039344855, -0.05...</td>\n",
       "      <td>0.614853</td>\n",
       "    </tr>\n",
       "  </tbody>\n",
       "</table>\n",
       "</div>"
      ],
      "text/plain": [
       "              ID                                          NEWS_HEAD  \\\n",
       "0     1552621575  Государственная Дума рекомендует Правительству...   \n",
       "1742  1100853539  Комитет Государственной Думы по энергетике про...   \n",
       "1735  1100853537  Комитет Государственной Думы по энергетике про...   \n",
       "531   1255968164  Павел Завальный: «Намерение ЕС форсировать эне...   \n",
       "478   1353506324  Депутаты комитета Государственной Думы по энер...   \n",
       "\n",
       "                                                    emb     score  \n",
       "0     [6.6673114e-05, 0.02740392, -0.033854015, -0.0...  0.000000  \n",
       "1742  [-0.026314128, 0.07819955, -0.043848775, -0.01...  0.572938  \n",
       "1735  [-0.01887728, 0.07468432, -0.044374257, -0.024...  0.607846  \n",
       "531   [-0.005707043, -0.08757431, -0.029431945, -0.0...  0.610513  \n",
       "478   [-0.025714297, 0.02512893, -0.039344855, -0.05...  0.614853  "
      ]
     },
     "execution_count": 14,
     "metadata": {},
     "output_type": "execute_result"
    }
   ],
   "source": [
    "get_closest_to_text(df.iloc[0].NEWS_HEAD, df, topN=5)"
   ]
  },
  {
   "cell_type": "code",
   "execution_count": 15,
   "id": "f3639b0b-d9a4-4346-b535-2ca5118034a9",
   "metadata": {},
   "outputs": [
    {
     "name": "stdout",
     "output_type": "stream",
     "text": [
      "Input string:\n",
      "Павел Сниккарс: «Важная задача в электроэнергетике в период высокой турбулентности – сохранить отлаженные за 10 лет механизмы»\n",
      "\n",
      "Closest records:\n"
     ]
    },
    {
     "data": {
      "text/html": [
       "<div>\n",
       "<style scoped>\n",
       "    .dataframe tbody tr th:only-of-type {\n",
       "        vertical-align: middle;\n",
       "    }\n",
       "\n",
       "    .dataframe tbody tr th {\n",
       "        vertical-align: top;\n",
       "    }\n",
       "\n",
       "    .dataframe thead th {\n",
       "        text-align: right;\n",
       "    }\n",
       "</style>\n",
       "<table border=\"1\" class=\"dataframe\">\n",
       "  <thead>\n",
       "    <tr style=\"text-align: right;\">\n",
       "      <th></th>\n",
       "      <th>ID</th>\n",
       "      <th>NEWS_HEAD</th>\n",
       "      <th>emb</th>\n",
       "      <th>score</th>\n",
       "    </tr>\n",
       "  </thead>\n",
       "  <tbody>\n",
       "    <tr>\n",
       "      <th>2</th>\n",
       "      <td>1552115549</td>\n",
       "      <td>Павел Сниккарс: «Важная задача в электроэнерге...</td>\n",
       "      <td>[-0.024322681, 0.063832596, 0.006030567, -0.04...</td>\n",
       "      <td>0.000000</td>\n",
       "    </tr>\n",
       "    <tr>\n",
       "      <th>1230</th>\n",
       "      <td>1100852945</td>\n",
       "      <td>Александр Новак: «Конкурс «Лидеры энергетики» ...</td>\n",
       "      <td>[-0.020745384, 0.020943524, 0.052267842, -0.01...</td>\n",
       "      <td>0.532184</td>\n",
       "    </tr>\n",
       "    <tr>\n",
       "      <th>1016</th>\n",
       "      <td>1110168307</td>\n",
       "      <td>Евгений Грабчак: «Цифровая модернизация позвол...</td>\n",
       "      <td>[-0.028432861, 0.03438398, -0.009605768, -0.01...</td>\n",
       "      <td>0.546007</td>\n",
       "    </tr>\n",
       "    <tr>\n",
       "      <th>1716</th>\n",
       "      <td>1100853535</td>\n",
       "      <td>Комитет Государственной Думы по энергетике про...</td>\n",
       "      <td>[0.0143666975, 0.065282606, -0.0020122027, -0....</td>\n",
       "      <td>0.557654</td>\n",
       "    </tr>\n",
       "    <tr>\n",
       "      <th>1192</th>\n",
       "      <td>1100853113</td>\n",
       "      <td>Павел Сорокин: «РЭН-2019 соберет экспертов в н...</td>\n",
       "      <td>[0.009449594, 0.0034494305, -0.029740738, -0.0...</td>\n",
       "      <td>0.563434</td>\n",
       "    </tr>\n",
       "    <tr>\n",
       "      <th>1500</th>\n",
       "      <td>1100853214</td>\n",
       "      <td>Евгений Грабчак: «Цифровые технологии позволят...</td>\n",
       "      <td>[0.008983374, 0.060951285, 0.012339252, -0.008...</td>\n",
       "      <td>0.565334</td>\n",
       "    </tr>\n",
       "    <tr>\n",
       "      <th>1194</th>\n",
       "      <td>1100853117</td>\n",
       "      <td>Павел Сниккарс провел заседание по актуализаци...</td>\n",
       "      <td>[0.037695155, 0.041363195, 0.028168043, -0.045...</td>\n",
       "      <td>0.566679</td>\n",
       "    </tr>\n",
       "    <tr>\n",
       "      <th>55</th>\n",
       "      <td>1532569895</td>\n",
       "      <td>Евгений Грабчак: «Долгосрочное планирование в ...</td>\n",
       "      <td>[-0.031916738, 0.04177955, -0.05964597, -0.082...</td>\n",
       "      <td>0.572095</td>\n",
       "    </tr>\n",
       "    <tr>\n",
       "      <th>898</th>\n",
       "      <td>1157826551</td>\n",
       "      <td>Комитет Государственной Думы по энергетике про...</td>\n",
       "      <td>[0.048303206, 0.0815241, 0.0081711095, -0.0134...</td>\n",
       "      <td>0.575072</td>\n",
       "    </tr>\n",
       "    <tr>\n",
       "      <th>1112</th>\n",
       "      <td>1100852913</td>\n",
       "      <td>Александр Новак: «Уровень запасов топлива к зи...</td>\n",
       "      <td>[-0.0022129382, 0.056396365, 0.037317578, -0.0...</td>\n",
       "      <td>0.579249</td>\n",
       "    </tr>\n",
       "  </tbody>\n",
       "</table>\n",
       "</div>"
      ],
      "text/plain": [
       "              ID                                          NEWS_HEAD  \\\n",
       "2     1552115549  Павел Сниккарс: «Важная задача в электроэнерге...   \n",
       "1230  1100852945  Александр Новак: «Конкурс «Лидеры энергетики» ...   \n",
       "1016  1110168307  Евгений Грабчак: «Цифровая модернизация позвол...   \n",
       "1716  1100853535  Комитет Государственной Думы по энергетике про...   \n",
       "1192  1100853113  Павел Сорокин: «РЭН-2019 соберет экспертов в н...   \n",
       "1500  1100853214  Евгений Грабчак: «Цифровые технологии позволят...   \n",
       "1194  1100853117  Павел Сниккарс провел заседание по актуализаци...   \n",
       "55    1532569895  Евгений Грабчак: «Долгосрочное планирование в ...   \n",
       "898   1157826551  Комитет Государственной Думы по энергетике про...   \n",
       "1112  1100852913  Александр Новак: «Уровень запасов топлива к зи...   \n",
       "\n",
       "                                                    emb     score  \n",
       "2     [-0.024322681, 0.063832596, 0.006030567, -0.04...  0.000000  \n",
       "1230  [-0.020745384, 0.020943524, 0.052267842, -0.01...  0.532184  \n",
       "1016  [-0.028432861, 0.03438398, -0.009605768, -0.01...  0.546007  \n",
       "1716  [0.0143666975, 0.065282606, -0.0020122027, -0....  0.557654  \n",
       "1192  [0.009449594, 0.0034494305, -0.029740738, -0.0...  0.563434  \n",
       "1500  [0.008983374, 0.060951285, 0.012339252, -0.008...  0.565334  \n",
       "1194  [0.037695155, 0.041363195, 0.028168043, -0.045...  0.566679  \n",
       "55    [-0.031916738, 0.04177955, -0.05964597, -0.082...  0.572095  \n",
       "898   [0.048303206, 0.0815241, 0.0081711095, -0.0134...  0.575072  \n",
       "1112  [-0.0022129382, 0.056396365, 0.037317578, -0.0...  0.579249  "
      ]
     },
     "execution_count": 15,
     "metadata": {},
     "output_type": "execute_result"
    }
   ],
   "source": [
    "get_closest_to_text(df.iloc[2].NEWS_HEAD, df, topN=10)"
   ]
  },
  {
   "cell_type": "code",
   "execution_count": 16,
   "id": "20092086-3773-4067-a898-b6c2027fcbdd",
   "metadata": {},
   "outputs": [
    {
     "name": "stdout",
     "output_type": "stream",
     "text": [
      "Input string:\n",
      "ФАС определила задачи совершенствования тарифного регулирования\n",
      "\n",
      "Closest records:\n"
     ]
    },
    {
     "data": {
      "text/html": [
       "<div>\n",
       "<style scoped>\n",
       "    .dataframe tbody tr th:only-of-type {\n",
       "        vertical-align: middle;\n",
       "    }\n",
       "\n",
       "    .dataframe tbody tr th {\n",
       "        vertical-align: top;\n",
       "    }\n",
       "\n",
       "    .dataframe thead th {\n",
       "        text-align: right;\n",
       "    }\n",
       "</style>\n",
       "<table border=\"1\" class=\"dataframe\">\n",
       "  <thead>\n",
       "    <tr style=\"text-align: right;\">\n",
       "      <th></th>\n",
       "      <th>ID</th>\n",
       "      <th>NEWS_HEAD</th>\n",
       "      <th>emb</th>\n",
       "      <th>score</th>\n",
       "    </tr>\n",
       "  </thead>\n",
       "  <tbody>\n",
       "    <tr>\n",
       "      <th>18</th>\n",
       "      <td>1546783300</td>\n",
       "      <td>ФАС определила задачи совершенствования тарифн...</td>\n",
       "      <td>[0.09777064, 0.026426591, 0.051717404, -0.0283...</td>\n",
       "      <td>0.000000</td>\n",
       "    </tr>\n",
       "    <tr>\n",
       "      <th>19</th>\n",
       "      <td>1546783302</td>\n",
       "      <td>ФАС определила задачи совершенствования тарифн...</td>\n",
       "      <td>[0.09777064, 0.026426591, 0.051717404, -0.0283...</td>\n",
       "      <td>0.000000</td>\n",
       "    </tr>\n",
       "    <tr>\n",
       "      <th>201</th>\n",
       "      <td>1477314954</td>\n",
       "      <td>Руководитель ФАС представил основные итоги и п...</td>\n",
       "      <td>[0.072988935, -0.0012470167, -0.040068354, 0.0...</td>\n",
       "      <td>0.469435</td>\n",
       "    </tr>\n",
       "    <tr>\n",
       "      <th>728</th>\n",
       "      <td>1210095965</td>\n",
       "      <td>Цифровизация тарифного регулирования неизбежна</td>\n",
       "      <td>[0.101398155, 0.0032326966, -0.00889873, 0.037...</td>\n",
       "      <td>0.478472</td>\n",
       "    </tr>\n",
       "    <tr>\n",
       "      <th>226</th>\n",
       "      <td>1470097088</td>\n",
       "      <td>В ДОП приняты изменения, связанные с уточнение...</td>\n",
       "      <td>[0.048701223, -0.021925649, -0.02592163, 0.028...</td>\n",
       "      <td>0.494197</td>\n",
       "    </tr>\n",
       "  </tbody>\n",
       "</table>\n",
       "</div>"
      ],
      "text/plain": [
       "             ID                                          NEWS_HEAD  \\\n",
       "18   1546783300  ФАС определила задачи совершенствования тарифн...   \n",
       "19   1546783302  ФАС определила задачи совершенствования тарифн...   \n",
       "201  1477314954  Руководитель ФАС представил основные итоги и п...   \n",
       "728  1210095965     Цифровизация тарифного регулирования неизбежна   \n",
       "226  1470097088  В ДОП приняты изменения, связанные с уточнение...   \n",
       "\n",
       "                                                   emb     score  \n",
       "18   [0.09777064, 0.026426591, 0.051717404, -0.0283...  0.000000  \n",
       "19   [0.09777064, 0.026426591, 0.051717404, -0.0283...  0.000000  \n",
       "201  [0.072988935, -0.0012470167, -0.040068354, 0.0...  0.469435  \n",
       "728  [0.101398155, 0.0032326966, -0.00889873, 0.037...  0.478472  \n",
       "226  [0.048701223, -0.021925649, -0.02592163, 0.028...  0.494197  "
      ]
     },
     "execution_count": 16,
     "metadata": {},
     "output_type": "execute_result"
    }
   ],
   "source": [
    "get_closest_to_text(df.iloc[18].NEWS_HEAD, df, topN=5)"
   ]
  },
  {
   "cell_type": "code",
   "execution_count": 17,
   "id": "8b9d6fe3-d064-4a07-94d2-6b8232bc365d",
   "metadata": {},
   "outputs": [
    {
     "name": "stdout",
     "output_type": "stream",
     "text": [
      "Input string:\n",
      "ФАС определила задачи совершенствования тарифного регулирования\n",
      "\n",
      "Closest records:\n"
     ]
    },
    {
     "data": {
      "text/html": [
       "<div>\n",
       "<style scoped>\n",
       "    .dataframe tbody tr th:only-of-type {\n",
       "        vertical-align: middle;\n",
       "    }\n",
       "\n",
       "    .dataframe tbody tr th {\n",
       "        vertical-align: top;\n",
       "    }\n",
       "\n",
       "    .dataframe thead th {\n",
       "        text-align: right;\n",
       "    }\n",
       "</style>\n",
       "<table border=\"1\" class=\"dataframe\">\n",
       "  <thead>\n",
       "    <tr style=\"text-align: right;\">\n",
       "      <th></th>\n",
       "      <th>ID</th>\n",
       "      <th>NEWS_HEAD</th>\n",
       "      <th>emb</th>\n",
       "      <th>score</th>\n",
       "    </tr>\n",
       "  </thead>\n",
       "  <tbody>\n",
       "    <tr>\n",
       "      <th>18</th>\n",
       "      <td>1546783300</td>\n",
       "      <td>ФАС определила задачи совершенствования тарифн...</td>\n",
       "      <td>[0.09777064, 0.026426591, 0.051717404, -0.0283...</td>\n",
       "      <td>0.000000</td>\n",
       "    </tr>\n",
       "    <tr>\n",
       "      <th>19</th>\n",
       "      <td>1546783302</td>\n",
       "      <td>ФАС определила задачи совершенствования тарифн...</td>\n",
       "      <td>[0.09777064, 0.026426591, 0.051717404, -0.0283...</td>\n",
       "      <td>0.000000</td>\n",
       "    </tr>\n",
       "    <tr>\n",
       "      <th>201</th>\n",
       "      <td>1477314954</td>\n",
       "      <td>Руководитель ФАС представил основные итоги и п...</td>\n",
       "      <td>[0.072988935, -0.0012470167, -0.040068354, 0.0...</td>\n",
       "      <td>0.469435</td>\n",
       "    </tr>\n",
       "    <tr>\n",
       "      <th>728</th>\n",
       "      <td>1210095965</td>\n",
       "      <td>Цифровизация тарифного регулирования неизбежна</td>\n",
       "      <td>[0.101398155, 0.0032326966, -0.00889873, 0.037...</td>\n",
       "      <td>0.478472</td>\n",
       "    </tr>\n",
       "    <tr>\n",
       "      <th>226</th>\n",
       "      <td>1470097088</td>\n",
       "      <td>В ДОП приняты изменения, связанные с уточнение...</td>\n",
       "      <td>[0.048701223, -0.021925649, -0.02592163, 0.028...</td>\n",
       "      <td>0.494197</td>\n",
       "    </tr>\n",
       "  </tbody>\n",
       "</table>\n",
       "</div>"
      ],
      "text/plain": [
       "             ID                                          NEWS_HEAD  \\\n",
       "18   1546783300  ФАС определила задачи совершенствования тарифн...   \n",
       "19   1546783302  ФАС определила задачи совершенствования тарифн...   \n",
       "201  1477314954  Руководитель ФАС представил основные итоги и п...   \n",
       "728  1210095965     Цифровизация тарифного регулирования неизбежна   \n",
       "226  1470097088  В ДОП приняты изменения, связанные с уточнение...   \n",
       "\n",
       "                                                   emb     score  \n",
       "18   [0.09777064, 0.026426591, 0.051717404, -0.0283...  0.000000  \n",
       "19   [0.09777064, 0.026426591, 0.051717404, -0.0283...  0.000000  \n",
       "201  [0.072988935, -0.0012470167, -0.040068354, 0.0...  0.469435  \n",
       "728  [0.101398155, 0.0032326966, -0.00889873, 0.037...  0.478472  \n",
       "226  [0.048701223, -0.021925649, -0.02592163, 0.028...  0.494197  "
      ]
     },
     "execution_count": 17,
     "metadata": {},
     "output_type": "execute_result"
    }
   ],
   "source": [
    "get_closest_to_text(df.iloc[19].NEWS_HEAD, df)"
   ]
  },
  {
   "cell_type": "code",
   "execution_count": 18,
   "id": "5c8f3497-8910-473e-bfed-5438d2fc9734",
   "metadata": {},
   "outputs": [
    {
     "name": "stdout",
     "output_type": "stream",
     "text": [
      "Input string:\n",
      "Уведомление для ООО \"Грин Энерджи Рус\"! Информация о максимально допустимых величинах потребления на собственные нужды электростанций на 2021 год!\n",
      "\n",
      "Closest records:\n"
     ]
    },
    {
     "data": {
      "text/html": [
       "<div>\n",
       "<style scoped>\n",
       "    .dataframe tbody tr th:only-of-type {\n",
       "        vertical-align: middle;\n",
       "    }\n",
       "\n",
       "    .dataframe tbody tr th {\n",
       "        vertical-align: top;\n",
       "    }\n",
       "\n",
       "    .dataframe thead th {\n",
       "        text-align: right;\n",
       "    }\n",
       "</style>\n",
       "<table border=\"1\" class=\"dataframe\">\n",
       "  <thead>\n",
       "    <tr style=\"text-align: right;\">\n",
       "      <th></th>\n",
       "      <th>ID</th>\n",
       "      <th>NEWS_HEAD</th>\n",
       "      <th>emb</th>\n",
       "      <th>score</th>\n",
       "    </tr>\n",
       "  </thead>\n",
       "  <tbody>\n",
       "    <tr>\n",
       "      <th>142</th>\n",
       "      <td>1497423434</td>\n",
       "      <td>Уведомление для ООО \"Грин Энерджи Рус\"! Информ...</td>\n",
       "      <td>[-0.006868089, -0.011465344, 0.038518388, -0.0...</td>\n",
       "      <td>0.000000</td>\n",
       "    </tr>\n",
       "    <tr>\n",
       "      <th>450</th>\n",
       "      <td>1353505575</td>\n",
       "      <td>Уведомление для ООО \"Санлайт Энерджи\"! Информа...</td>\n",
       "      <td>[-0.018210936, -0.030568626, 0.050093822, 0.00...</td>\n",
       "      <td>0.044107</td>\n",
       "    </tr>\n",
       "    <tr>\n",
       "      <th>510</th>\n",
       "      <td>1353830748</td>\n",
       "      <td>Уведомление для ООО \"Грин Энерджи Рус\" и АО \"В...</td>\n",
       "      <td>[-0.0045551276, -0.029549306, 0.03328291, -0.0...</td>\n",
       "      <td>0.050182</td>\n",
       "    </tr>\n",
       "    <tr>\n",
       "      <th>643</th>\n",
       "      <td>1227444065</td>\n",
       "      <td>Уведомление для ООО \"Санлайт Энерджи\"! Информа...</td>\n",
       "      <td>[-0.015239214, -0.020699851, 0.04711477, 0.001...</td>\n",
       "      <td>0.070868</td>\n",
       "    </tr>\n",
       "    <tr>\n",
       "      <th>666</th>\n",
       "      <td>1221731526</td>\n",
       "      <td>Уведомление для ООО \"Санлайт Энерджи\"! Информа...</td>\n",
       "      <td>[-0.015239214, -0.020699851, 0.04711477, 0.001...</td>\n",
       "      <td>0.070868</td>\n",
       "    </tr>\n",
       "  </tbody>\n",
       "</table>\n",
       "</div>"
      ],
      "text/plain": [
       "             ID                                          NEWS_HEAD  \\\n",
       "142  1497423434  Уведомление для ООО \"Грин Энерджи Рус\"! Информ...   \n",
       "450  1353505575  Уведомление для ООО \"Санлайт Энерджи\"! Информа...   \n",
       "510  1353830748  Уведомление для ООО \"Грин Энерджи Рус\" и АО \"В...   \n",
       "643  1227444065  Уведомление для ООО \"Санлайт Энерджи\"! Информа...   \n",
       "666  1221731526  Уведомление для ООО \"Санлайт Энерджи\"! Информа...   \n",
       "\n",
       "                                                   emb     score  \n",
       "142  [-0.006868089, -0.011465344, 0.038518388, -0.0...  0.000000  \n",
       "450  [-0.018210936, -0.030568626, 0.050093822, 0.00...  0.044107  \n",
       "510  [-0.0045551276, -0.029549306, 0.03328291, -0.0...  0.050182  \n",
       "643  [-0.015239214, -0.020699851, 0.04711477, 0.001...  0.070868  \n",
       "666  [-0.015239214, -0.020699851, 0.04711477, 0.001...  0.070868  "
      ]
     },
     "execution_count": 18,
     "metadata": {},
     "output_type": "execute_result"
    }
   ],
   "source": [
    "get_closest_to_text(df.iloc[142].NEWS_HEAD, df)"
   ]
  },
  {
   "cell_type": "code",
   "execution_count": 19,
   "id": "cee86bd6-09dd-4540-a5a5-40d6b936fa7c",
   "metadata": {},
   "outputs": [
    {
     "name": "stdout",
     "output_type": "stream",
     "text": [
      "Input string:\n",
      "I love pizza\n",
      "\n",
      "Closest records:\n"
     ]
    },
    {
     "data": {
      "text/html": [
       "<div>\n",
       "<style scoped>\n",
       "    .dataframe tbody tr th:only-of-type {\n",
       "        vertical-align: middle;\n",
       "    }\n",
       "\n",
       "    .dataframe tbody tr th {\n",
       "        vertical-align: top;\n",
       "    }\n",
       "\n",
       "    .dataframe thead th {\n",
       "        text-align: right;\n",
       "    }\n",
       "</style>\n",
       "<table border=\"1\" class=\"dataframe\">\n",
       "  <thead>\n",
       "    <tr style=\"text-align: right;\">\n",
       "      <th></th>\n",
       "      <th>ID</th>\n",
       "      <th>NEWS_HEAD</th>\n",
       "      <th>emb</th>\n",
       "      <th>score</th>\n",
       "    </tr>\n",
       "  </thead>\n",
       "  <tbody>\n",
       "    <tr>\n",
       "      <th>944</th>\n",
       "      <td>1138231366</td>\n",
       "      <td>С Днем энергетика!</td>\n",
       "      <td>[0.03395263, 0.027581275, -0.021881483, 0.0482...</td>\n",
       "      <td>0.817647</td>\n",
       "    </tr>\n",
       "    <tr>\n",
       "      <th>124</th>\n",
       "      <td>1506307579</td>\n",
       "      <td>С Днем энергетика!</td>\n",
       "      <td>[0.03395263, 0.027581275, -0.021881483, 0.0482...</td>\n",
       "      <td>0.817647</td>\n",
       "    </tr>\n",
       "    <tr>\n",
       "      <th>945</th>\n",
       "      <td>1138208208</td>\n",
       "      <td>С Днем Энергетика!</td>\n",
       "      <td>[0.045147557, 0.014729199, -0.019837264, 0.042...</td>\n",
       "      <td>0.826592</td>\n",
       "    </tr>\n",
       "    <tr>\n",
       "      <th>1574</th>\n",
       "      <td>1100852043</td>\n",
       "      <td>В состав Ассоциации «НП Совет рынка» приняты т...</td>\n",
       "      <td>[0.012550067, -0.0349957, -0.02011785, -0.0576...</td>\n",
       "      <td>0.826614</td>\n",
       "    </tr>\n",
       "    <tr>\n",
       "      <th>265</th>\n",
       "      <td>1404837295</td>\n",
       "      <td>В Члены Ассоциации «НП Совет рынка» приняты тр...</td>\n",
       "      <td>[0.01721313, -0.028385356, -0.037241697, -0.04...</td>\n",
       "      <td>0.833423</td>\n",
       "    </tr>\n",
       "  </tbody>\n",
       "</table>\n",
       "</div>"
      ],
      "text/plain": [
       "              ID                                          NEWS_HEAD  \\\n",
       "944   1138231366                                 С Днем энергетика!   \n",
       "124   1506307579                                 С Днем энергетика!   \n",
       "945   1138208208                                 С Днем Энергетика!   \n",
       "1574  1100852043  В состав Ассоциации «НП Совет рынка» приняты т...   \n",
       "265   1404837295  В Члены Ассоциации «НП Совет рынка» приняты тр...   \n",
       "\n",
       "                                                    emb     score  \n",
       "944   [0.03395263, 0.027581275, -0.021881483, 0.0482...  0.817647  \n",
       "124   [0.03395263, 0.027581275, -0.021881483, 0.0482...  0.817647  \n",
       "945   [0.045147557, 0.014729199, -0.019837264, 0.042...  0.826592  \n",
       "1574  [0.012550067, -0.0349957, -0.02011785, -0.0576...  0.826614  \n",
       "265   [0.01721313, -0.028385356, -0.037241697, -0.04...  0.833423  "
      ]
     },
     "execution_count": 19,
     "metadata": {},
     "output_type": "execute_result"
    }
   ],
   "source": [
    "get_closest_to_text(\"I love pizza\", df)"
   ]
  },
  {
   "cell_type": "code",
   "execution_count": null,
   "id": "22d908ca-9627-4e7a-acd3-5ce1bb648171",
   "metadata": {},
   "outputs": [],
   "source": []
  }
 ],
 "metadata": {
  "kernelspec": {
   "display_name": "Python 3 (ipykernel)",
   "language": "python",
   "name": "python3"
  },
  "language_info": {
   "codemirror_mode": {
    "name": "ipython",
    "version": 3
   },
   "file_extension": ".py",
   "mimetype": "text/x-python",
   "name": "python",
   "nbconvert_exporter": "python",
   "pygments_lexer": "ipython3",
   "version": "3.8.0"
  }
 },
 "nbformat": 4,
 "nbformat_minor": 5
}

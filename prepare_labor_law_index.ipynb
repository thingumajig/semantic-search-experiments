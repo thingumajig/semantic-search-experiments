{
 "cells": [
  {
   "cell_type": "markdown",
   "id": "d7b1666b-578a-4dc1-a372-bf9494aeba7e",
   "metadata": {},
   "source": [
    "# Setup Elastic Client"
   ]
  },
  {
   "cell_type": "code",
   "execution_count": null,
   "id": "95239009-8124-48da-a7b7-94f3db4c68cd",
   "metadata": {
    "tags": []
   },
   "outputs": [],
   "source": [
    "from elasticsearch import Elasticsearch\n",
    "from elasticsearch.helpers import bulk\n",
    "\n",
    "es = Elasticsearch([\"http://localhost:9200\"], http_auth=('elastic', 'xxxxxx'), timeout=30)\n",
    "es.cluster.health(wait_for_status='yellow', request_timeout=10)"
   ]
  },
  {
   "cell_type": "markdown",
   "id": "c46b446c-dcce-4e05-8f5f-e8731a2c4c4d",
   "metadata": {
    "tags": []
   },
   "source": [
    "# Load data"
   ]
  },
  {
   "cell_type": "code",
   "execution_count": null,
   "id": "db8129b0-d7cd-42e3-8c56-a4306d21cb59",
   "metadata": {
    "tags": []
   },
   "outputs": [],
   "source": [
    "!pip install pysbd"
   ]
  },
  {
   "cell_type": "code",
   "execution_count": null,
   "id": "62307ceb-ba3d-493c-8e9a-c6bad680412d",
   "metadata": {
    "tags": []
   },
   "outputs": [],
   "source": [
    "import pandas as pd\n",
    "import numpy as np\n",
    "from pathlib import Path\n",
    "import re"
   ]
  },
  {
   "cell_type": "code",
   "execution_count": null,
   "id": "7d1aaafc-6871-4b00-bacd-99e305ddd70a",
   "metadata": {
    "tags": []
   },
   "outputs": [],
   "source": [
    "# file = \"Трудовой кодекс+8.02.2023.xlsx\"\n",
    "file = \"fixed 10.02.23.xlsx\"\n",
    "df = pd.read_excel(file, engine=\"openpyxl\")\n",
    "df.head()"
   ]
  },
  {
   "cell_type": "markdown",
   "id": "ffc32b2d-0de6-4e56-a921-09217dbab65b",
   "metadata": {},
   "source": [
    "## Some cleanup"
   ]
  },
  {
   "cell_type": "code",
   "execution_count": null,
   "id": "5ccb917a-fb48-4e8e-adee-7afb610b9723",
   "metadata": {
    "tags": []
   },
   "outputs": [],
   "source": [
    "df.text = df.text.apply(lambda x: x.replace(\"_x000D_\\n\", \" \"))\n",
    "df.section_text = df.section_text.apply(lambda x: x.replace(\"_x000D_\\n\", \" \"))\n",
    "df.chapter_text = df.chapter_text.apply(lambda x: x.replace(\"_x000D_\\n\", \" \"))\n",
    "df.article_text = df.article_text.apply(lambda x: x.replace(\"_x000D_\\n\", \" \"))\n",
    "\n",
    "df.section_text = df.section_text.apply(lambda x: x.replace(\"\\n\", \" \"))\n",
    "df.chapter_text = df.chapter_text.apply(lambda x: x.replace(\"\\n\", \" \"))\n",
    "df.article_text = df.article_text.apply(lambda x: x.replace(\"\\n\", \" \"))"
   ]
  },
  {
   "cell_type": "code",
   "execution_count": null,
   "id": "090efa5e-a356-45ff-a108-ddcf067c3419",
   "metadata": {
    "tags": []
   },
   "outputs": [],
   "source": [
    "df.head()"
   ]
  },
  {
   "cell_type": "code",
   "execution_count": null,
   "id": "addd0655-f321-452f-9ec3-b24c3a82b1da",
   "metadata": {
    "tags": []
   },
   "outputs": [],
   "source": [
    "\n",
    "note_cleanup_re: re.Pattern = re.compile(r'КонсультантПлюс\\: примечание\\.\\n.*?\\n', flags=re.MULTILINE)\n",
    "ref_cleanup_re: re.Pattern = re.compile(r'\\(.*?N\\s+\\d+-ФЗ.*?\\)\\n')\n",
    "removed_cleanup_re: re.Pattern = re.compile(r'абзац утратил силу\\..*?(;|\\.)\\n')\n",
    "removed2_cleanup_re: re.Pattern = re.compile(r'Часть \\w+ утратила силу(\\sс.*?года)?. - Федеральный закон от .*?\\n')\n",
    "def general_cleanup(s):\n",
    "    s = note_cleanup_re.sub('', s)\n",
    "    s = ref_cleanup_re.sub('', s)\n",
    "    s = removed_cleanup_re.sub('', s)\n",
    "    s = removed2_cleanup_re.sub('', s)\n",
    "    return s\n",
    "\n",
    "\n",
    "# print(general_cleanup(s))\n"
   ]
  },
  {
   "cell_type": "code",
   "execution_count": null,
   "id": "6ad8db3a-22c1-43a6-b757-0bbb761de75d",
   "metadata": {
    "tags": []
   },
   "outputs": [],
   "source": [
    "df.text = df.text.apply(lambda x: general_cleanup(x))"
   ]
  },
  {
   "cell_type": "code",
   "execution_count": null,
   "id": "bef9529a-825b-45ce-9d0a-f0e4e993be0d",
   "metadata": {
    "tags": []
   },
   "outputs": [],
   "source": [
    "df[df.text.str.contains('утратила силу')]"
   ]
  },
  {
   "cell_type": "code",
   "execution_count": null,
   "id": "c0fe9e02-f467-40ed-9d59-533167f13b95",
   "metadata": {
    "tags": []
   },
   "outputs": [],
   "source": [
    "# def remove_link(row):\n",
    "#     for r in [x for x in re.findall(r\"\\((.*?)\\)\", row) if re.search(r\"\\d\\d\\.\\d\\d\\.\\d\\d\\d\\d\", x)]:\n",
    "#         row = row.replace(f\"({r})\", \"\")\n",
    "#     return row\n",
    "\n",
    "import pysbd\n",
    "\n",
    "def get_sentence_spans(text):\n",
    "    seg = pysbd.Segmenter(language=\"ru\", clean=True, char_span=False)\n",
    "    r = seg.segment(text)\n",
    "    r.reverse()\n",
    "    bullets_fixed_r = []\n",
    "    \n",
    "    def reccurent_bullet_list(prefix=''):\n",
    "        while len(r)>0:\n",
    "            x = r.pop()\n",
    "            if x.endswith(';'):\n",
    "                bullets_fixed_r.append(prefix+' '+x)\n",
    "            elif x.endswith(':'):\n",
    "                reccurent_bullet_list(prefix+' '+x[:-1])\n",
    "                break\n",
    "            else:\n",
    "                bullets_fixed_r.append(prefix+' '+x)\n",
    "                break\n",
    "        \n",
    "\n",
    "    while len(r)>0:\n",
    "        s = r.pop()\n",
    "        if s.endswith(':'):\n",
    "            reccurent_bullet_list(s[:-1])\n",
    "        else:\n",
    "            bullets_fixed_r.append(s)\n",
    "                \n",
    "    return bullets_fixed_r\n",
    "        \n",
    "\n",
    "print(df.text[73])\n",
    "# get_sentence_spans(remove_link(df.text[338]))\n",
    "get_sentence_spans(general_cleanup(df.text[73]))"
   ]
  },
  {
   "cell_type": "code",
   "execution_count": null,
   "id": "ca42f5b1-1739-497e-8b0d-63fe239278b6",
   "metadata": {
    "tags": []
   },
   "outputs": [],
   "source": [
    "\n",
    "\n",
    "df.insert(loc=len(df.columns), column='text2embed', value='', allow_duplicates=True)\n",
    "df.text2embed = df.text.apply(lambda x: get_sentence_spans(x))"
   ]
  },
  {
   "cell_type": "code",
   "execution_count": null,
   "id": "6900c7b9-b870-4d19-9f19-a45cff7b41bb",
   "metadata": {
    "tags": []
   },
   "outputs": [],
   "source": [
    "df.head(10)"
   ]
  },
  {
   "cell_type": "code",
   "execution_count": null,
   "id": "68f3ca3f-9b1a-4b75-ab15-3c6f01e2fad3",
   "metadata": {
    "tags": []
   },
   "outputs": [],
   "source": [
    "df.to_excel(\"fixed.xlsx\")"
   ]
  },
  {
   "cell_type": "code",
   "execution_count": null,
   "id": "861b97ef-8253-48f6-ae92-9bb4d4aada6d",
   "metadata": {
    "tags": []
   },
   "outputs": [],
   "source": [
    "!pip list | grep tensorflow"
   ]
  },
  {
   "cell_type": "markdown",
   "id": "4d44de9d-6c93-4b94-a8dc-fa939454af52",
   "metadata": {
    "tags": []
   },
   "source": [
    "# Prepare indices"
   ]
  },
  {
   "cell_type": "code",
   "execution_count": null,
   "id": "ae4de611-87fb-4ff8-bd4d-2517704d91e1",
   "metadata": {
    "tags": []
   },
   "outputs": [],
   "source": [
    "index_name = 'labor_law'\n",
    "\n",
    "# source_no_vecs = ['title', 'db_id']\n",
    "# vector_dims = 512\n",
    "vector_dims = 768\n",
    "# vector_dims = 312\n",
    "\n",
    "source_law = 'Трудовой кодекс'\n",
    "\n",
    "columns_to_add_as_text = [\n",
    "    \"party\",\n",
    "    \"section_number\",\n",
    "    \"section_text\",\n",
    "    \"chapter_number\",\n",
    "    \"chapter_text\",\n",
    "    \"article_number\",\n",
    "    \"article_text\",\n",
    "    \"href\",\n",
    "    # \"text\",\n",
    "]"
   ]
  },
  {
   "cell_type": "markdown",
   "id": "fc9610ba-4bc2-4c72-b401-9bcc30948c67",
   "metadata": {},
   "source": [
    "#### Optional: clear indices"
   ]
  },
  {
   "cell_type": "code",
   "execution_count": null,
   "id": "e67a1981-9cf3-4be5-aac1-7352db8258c7",
   "metadata": {
    "tags": []
   },
   "outputs": [],
   "source": [
    "remove_indices = True\n",
    "if remove_indices:\n",
    "    es.indices.delete(index=index_name, ignore=[400, 404])\n",
    "    es.indices.flush(index=\"*\")\n",
    "    # es.indices.shrink(index=\"*\")\n",
    "if es.indices.exists(index=index_name):\n",
    "    es.indices.get_mapping(index=index_name)"
   ]
  },
  {
   "cell_type": "markdown",
   "id": "fa92625c-218b-4e7d-8a33-060b1af363aa",
   "metadata": {},
   "source": [
    "## Settings"
   ]
  },
  {
   "cell_type": "code",
   "execution_count": null,
   "id": "cd9e05bc-381e-4958-8191-7a0b7d6ad39d",
   "metadata": {
    "tags": []
   },
   "outputs": [],
   "source": [
    "settings = {\n",
    "    \"number_of_shards\": 1,\n",
    "    \"number_of_replicas\": 0,\n",
    "    \"elastiknn\": True,    \n",
    "  # \"settings\": {\n",
    "  #   \"number_of_shards\": 1,\n",
    "  #   \"number_of_replicas\": 0,\n",
    "  #   \"elastiknn\": True,    \n",
    "  # }\n",
    "    \n",
    "    \"analysis\": {\n",
    "      \"filter\": {\n",
    "        \"russian_stop\": {\n",
    "          \"type\":       \"stop\",\n",
    "          \"stopwords\":  \"_russian_\"\n",
    "        },\n",
    "        \"russian_keywords\": {\n",
    "          \"type\":       \"keyword_marker\",\n",
    "          \"keywords\":   [\"пример\", \"кодекс\"]\n",
    "        },\n",
    "        \"russian_stemmer\": {\n",
    "          \"type\":       \"stemmer\",\n",
    "          \"language\":   \"russian\"\n",
    "        }\n",
    "      },\n",
    "      \"analyzer\": {\n",
    "        \"rebuilt_russian\": {\n",
    "          \"tokenizer\":  \"standard\",\n",
    "          \"filter\": [\n",
    "            \"lowercase\",\n",
    "            \"russian_stop\",\n",
    "            \"russian_keywords\",\n",
    "            \"russian_stemmer\"\n",
    "          ]\n",
    "        }\n",
    "      }\n",
    "    }\n",
    "}\n",
    "\n",
    "mapping = {\n",
    "  \"dynamic\": False,\n",
    "  \"properties\": {\n",
    "    \"source_law\" : {\"type\": \"keyword\"},\n",
    "    \"original_row\": {\"type\": \"long\"},\n",
    "      \n",
    "    \"doc_structure_tags\": {\"type\": \"keyword\"},\n",
    "    \n",
    "    \"party\": {\"type\": \"keyword\" },\n",
    "    \"section_number\": {\"type\": \"keyword\" },\n",
    "    \"section_text\": {\"type\": \"text\", \"analyzer\": \"rebuilt_russian\" },\n",
    "    \"chapter_number\": {\"type\": \"keyword\" },\n",
    "    \"chapter_text\": {\"type\": \"text\", \"analyzer\": \"rebuilt_russian\" },\n",
    "    \"article_number\": {\"type\": \"keyword\" },\n",
    "    \"article_text\": {\"type\": \"text\", \"analyzer\": \"rebuilt_russian\" },\n",
    "    \"href\": {\"type\": \"text\" },\n",
    "    \"text\": {\"type\": \"text\", \"store\": True, \"analyzer\": \"rebuilt_russian\" },\n",
    "      \n",
    "\n",
    "    \"text_emb\": {\n",
    "        \"type\": \"elastiknn_dense_float_vector\", # 1\n",
    "        \"elastiknn\": {\n",
    "            \"dims\": vector_dims,                        # 2\n",
    "            \"model\": \"lsh\",                     # 3\n",
    "            \"similarity\": \"cosine\",             # 4\n",
    "            \"L\": 300,                            # 5\n",
    "            \"k\": 10                              # 6\n",
    "        }\n",
    "    },\n",
    "\n",
    "  }\n",
    "}"
   ]
  },
  {
   "cell_type": "code",
   "execution_count": null,
   "id": "62089571-9171-407d-8f40-4c294c8e0c40",
   "metadata": {
    "tags": []
   },
   "outputs": [],
   "source": [
    "if not es.indices.exists(index=index_name):\n",
    "    es.indices.create(index=index_name, settings=settings)\n",
    "    es.indices.put_mapping(mapping, index=index_name,  )"
   ]
  },
  {
   "cell_type": "code",
   "execution_count": null,
   "id": "b8d81451-c748-4025-8018-a72866e147e4",
   "metadata": {
    "tags": []
   },
   "outputs": [],
   "source": [
    "es.cluster.put_settings({\n",
    "    \"persistent\": { \"cluster.max_shards_per_node\": \"5000\" },\n",
    "    \"transient\": {\n",
    "        \"cluster.routing.allocation.total_shards_per_node\": 5100\n",
    "    }\n",
    "})"
   ]
  },
  {
   "cell_type": "code",
   "execution_count": null,
   "id": "7a47d32a-6828-4a4f-a198-78e07b2cb74f",
   "metadata": {
    "tags": []
   },
   "outputs": [],
   "source": [
    "es.indices.get_settings(index=index_name)"
   ]
  },
  {
   "cell_type": "code",
   "execution_count": null,
   "id": "967eb714-a828-4784-a96b-6d05716dcf65",
   "metadata": {
    "tags": []
   },
   "outputs": [],
   "source": [
    "!curl -X POST \"localhost:9200/labor_law/_analyze?pretty\" -H 'Content-Type: application/json' -d'{\"field\": \"text\", \"text\": \"трудового кодекса\"}'\n",
    "!curl -X POST \"localhost:9200/labor_law/_analyze?pretty\" -H 'Content-Type: application/json' -d'{\"field\": \"text\",\"text\": \"трудовым кодексом\"}'\n"
   ]
  },
  {
   "cell_type": "code",
   "execution_count": null,
   "id": "6882a850-44e0-4d89-ad8f-837b11d45ee8",
   "metadata": {
    "tags": []
   },
   "outputs": [],
   "source": [
    "es.indices.get_mapping(index=index_name)"
   ]
  },
  {
   "cell_type": "markdown",
   "id": "03a43f33-9a3f-49f7-bd9e-88da88db2030",
   "metadata": {
    "tags": []
   },
   "source": [
    "# Generate and Index Embeddings"
   ]
  },
  {
   "cell_type": "code",
   "execution_count": null,
   "id": "ca622742-82f8-4d63-8c8b-c8a0cc0e796b",
   "metadata": {
    "tags": []
   },
   "outputs": [],
   "source": [
    "\n",
    "import numpy as np\n",
    "\n",
    "from tqdm import tqdm"
   ]
  },
  {
   "cell_type": "markdown",
   "id": "647fe6ad-77cf-4195-9dd4-b5f64637e979",
   "metadata": {},
   "source": [
    "## prepare embedder"
   ]
  },
  {
   "cell_type": "code",
   "execution_count": null,
   "id": "714b5de4-34aa-4248-aaf6-6eaa35f31c45",
   "metadata": {
    "tags": []
   },
   "outputs": [],
   "source": [
    "# import tensorflow_hub as hub\n",
    "# import tensorflow_text\n",
    "# model_name = \"https://tfhub.dev/google/universal-sentence-encoder-multilingual/3\"\n",
    "# model_name = 'https://tfhub.dev/google/universal-sentence-encoder-multilingual-large/3'\n",
    "# embed = hub.load(model_name)\n",
    "\n",
    "from transformers import AutoTokenizer, AutoModel\n",
    "import torch\n",
    "\n",
    "\n",
    "# model_name = 'symanto/sn-xlm-roberta-base-snli-mnli-anli-xnli'\n",
    "# model_name = 'inkoziev/sbert_pq'\n",
    "model_name = 'sentence-transformers/distiluse-base-multilingual-cased-v1'\n",
    "\n",
    "#Mean Pooling - Take attention mask into account for correct averaging\n",
    "def mean_pooling(model_output, attention_mask):\n",
    "    token_embeddings = model_output[0] #First element of model_output contains all token embeddings\n",
    "    input_mask_expanded = attention_mask.unsqueeze(-1).expand(token_embeddings.size()).float()\n",
    "    return torch.sum(token_embeddings * input_mask_expanded, 1) / torch.clamp(input_mask_expanded.sum(1), min=1e-9)\n",
    "\n",
    "\n",
    "# Load model from HuggingFace Hub\n",
    "tokenizer = AutoTokenizer.from_pretrained(model_name)\n",
    "model = AutoModel.from_pretrained(model_name)\n",
    "\n",
    "def get_sentence_embeddings(sentences):\n",
    "    # Tokenize sentences\n",
    "    encoded_input = tokenizer(sentences, padding=True, truncation=True, return_tensors='pt')\n",
    "\n",
    "    # Compute token embeddings\n",
    "    with torch.no_grad():\n",
    "        model_output = model(**encoded_input)\n",
    "\n",
    "    # Perform pooling. In this case, mean pooling.\n",
    "    return mean_pooling(model_output, encoded_input['attention_mask'])\n"
   ]
  },
  {
   "cell_type": "code",
   "execution_count": null,
   "id": "9c6d2cf7-a65b-428e-bcd7-7c1462b18fba",
   "metadata": {
    "tags": []
   },
   "outputs": [],
   "source": [
    "get_sentence_embeddings('Лица, замещающие указанные должности и достигшие возраста семидесяти лет, переводятся с их письменного согласия на иные должности, соответствующие их квалификации.').shape #.numpy()[0]"
   ]
  },
  {
   "cell_type": "code",
   "execution_count": null,
   "id": "bfdf81ee-713f-4416-a2d5-c71f21414b9b",
   "metadata": {
    "tags": []
   },
   "outputs": [],
   "source": [
    "structure_columns = ['party', 'section_number', 'chapter_number', 'article_number']\n",
    "def collect_row_tags(row):\n",
    "    structure_path = ''\n",
    "    structure_tags = []\n",
    "    for c in structure_columns:\n",
    "        structure_path += row[c]    \n",
    "        structure_tags.append(structure_path)\n",
    "        structure_path += '/'\n",
    "    return structure_tags\n",
    "\n",
    "collect_row_tags({structure_columns[0]:'ЧАСТЬ ПЕРВАЯ',structure_columns[1]:'Раздел I',structure_columns[2]:'Глава 1',structure_columns[3]:'Статья 1'})"
   ]
  },
  {
   "cell_type": "code",
   "execution_count": null,
   "id": "6c3c8d24-1fc4-4156-b803-7e88afeb0ec8",
   "metadata": {
    "tags": []
   },
   "outputs": [],
   "source": [
    "tqdm.pandas(desc=\"pandas processing...\")\n",
    "\n",
    "def heads_actions():\n",
    "    for index, row in df.iterrows():\n",
    "        embs=row['text2embed']\n",
    "        tags = collect_row_tags(row)\n",
    "        for e in embs:\n",
    "            d = {\n",
    "              \"_op_type\": \"index\", \n",
    "              \"_index\": index_name, \n",
    "\n",
    "              \"original_row\": index, \n",
    "              \"source_law\": source_law, \n",
    "            }\n",
    "            for c in columns_to_add_as_text:\n",
    "                d[c] = row[c]\n",
    "\n",
    "            d['doc_structure_tags'] = tags\n",
    "            d['text'] = e\n",
    "            # d['text_emb'] = embed(e).numpy()[0]\n",
    "            d['text_emb'] = get_sentence_embeddings(e).numpy()[0]\n",
    "            yield d\n",
    "\n",
    "bulk(es, heads_actions(), chunk_size=1000, max_retries=2)"
   ]
  },
  {
   "cell_type": "code",
   "execution_count": null,
   "id": "6dcace13-ec06-485f-bd5e-8b975af3f5bc",
   "metadata": {
    "tags": []
   },
   "outputs": [],
   "source": [
    "es.indices.refresh(index=index_name)\n",
    "es.indices.forcemerge(index=index_name, max_num_segments=1, request_timeout=120)"
   ]
  },
  {
   "cell_type": "code",
   "execution_count": null,
   "id": "76ea70b0-b738-4112-9baa-9280120bf51a",
   "metadata": {},
   "outputs": [],
   "source": [
    "def vector_actions():\n",
    "    for index, row in df.iterrows():\n",
    "        yield { \n",
    "            \"_op_type\": \"update\", \n",
    "            \"_index\": index_name, \n",
    "            \n",
    "            \"_id\": index, \n",
    "            \"doc\": { \n",
    "              \"text_emb\": { \"values\": embed(row['text2embed']).numpy()[0] }\n",
    "            }\n",
    "        }\n",
    "        \n",
    "\n",
    "# bulk(es, vector_actions(), chunk_size=50, max_retries=10, request_timeout=60)"
   ]
  },
  {
   "cell_type": "code",
   "execution_count": null,
   "id": "110bf683-4560-463b-9919-0e82510557e1",
   "metadata": {},
   "outputs": [],
   "source": [
    "es.indices.refresh(index=index_name)\n",
    "es.indices.forcemerge(index=index_name, max_num_segments=1, request_timeout=300)"
   ]
  },
  {
   "cell_type": "code",
   "execution_count": null,
   "id": "8cb54288-1c2f-4615-870f-388343ed3dd6",
   "metadata": {
    "tags": []
   },
   "outputs": [],
   "source": [
    "es.get(index=index_name, id=\"1\")\n"
   ]
  },
  {
   "cell_type": "markdown",
   "id": "927ebd0d-22df-42c9-9128-66ea1ddbc008",
   "metadata": {},
   "source": [
    "# Search experiments"
   ]
  },
  {
   "cell_type": "code",
   "execution_count": null,
   "id": "3e837e31-f409-4cd2-b3fc-3fea69b1f812",
   "metadata": {
    "tags": []
   },
   "outputs": [],
   "source": [
    "def display_hits(res):\n",
    "    print(f\"Found {res['hits']['total']['value']} hits in {res['took']} ms. Showing top {len(res['hits']['hits'])}.\")\n",
    "    print(\"\")\n",
    "    for hit in res['hits']['hits']:\n",
    "        s = hit['_source']\n",
    "        # print(f\"Id:{s.get('db_id', None)} Title   {s.get('title', None)}\")\n",
    "        print(f\"({hit.get('_id')}) {s.get('source_law')}: {s.get('party')} > {s.get('section_number')} {s.get('section_text')} > {s.get('chapter_number')} {s.get('chapter_text')} >\")\n",
    "        print(s.get('text'))\n",
    "        print(f\"Score   {hit.get('_score', None)}\")\n"
   ]
  },
  {
   "cell_type": "markdown",
   "id": "4afbcb46-1e00-4894-8b4a-d704c5724947",
   "metadata": {},
   "source": [
    "## Keyword search"
   ]
  },
  {
   "cell_type": "code",
   "execution_count": null,
   "id": "1534d75f-f73b-4c3f-8dcf-fe3e3eb94fd5",
   "metadata": {
    "tags": []
   },
   "outputs": [],
   "source": [
    "\n",
    "body = {\n",
    "  \"query\": {\n",
    "    \"multi_match\": {\n",
    "      \"query\": \"Основные начала\",\n",
    "      \"fields\": [\"text^2\"]\n",
    "    }\n",
    "  }\n",
    "}\n",
    "\n",
    "res = es.search(index=index_name, body=body, size=5, _source=columns_to_add_as_text+['source_law', 'text'])\n",
    "display_hits(res)"
   ]
  },
  {
   "cell_type": "code",
   "execution_count": null,
   "id": "eb79c700-0501-40f9-9fac-4e91d2aad11e",
   "metadata": {
    "tags": []
   },
   "outputs": [],
   "source": [
    "res"
   ]
  },
  {
   "cell_type": "markdown",
   "id": "683a84f3-a7d7-4eef-bb93-f1faddd3b5db",
   "metadata": {},
   "source": [
    "## Terms Aggregation"
   ]
  },
  {
   "cell_type": "code",
   "execution_count": null,
   "id": "6ba14290-f6dc-4472-9032-a1b7b0828ce2",
   "metadata": {
    "tags": []
   },
   "outputs": [],
   "source": [
    "\n",
    "body = {\n",
    "  \"aggs\": {\n",
    "    \"parties\": {\n",
    "      \"terms\": { \n",
    "          \"field\": \"party\",\n",
    "          \"order\": { \"_key\": \"asc\" },\n",
    "      }\n",
    "    },\n",
    "    \"sections\": {\n",
    "        \"terms\": {\n",
    "            \"field\": \"section_number\", \n",
    "            \"order\": { \"_key\": \"asc\" },\n",
    "        },\n",
    "        \n",
    "        \"aggs\": {\n",
    "            \"chapter_numbers\": {  \n",
    "                \"terms\": {\n",
    "                    \"field\": \"chapter_number\", \n",
    "                    \"order\": { \"_key\": \"asc\" },\n",
    "                },\n",
    "            }\n",
    "      }\n",
    "\n",
    "    }\n",
    "    \n",
    "  }\n",
    "}\n",
    "body = {\n",
    "  \"aggs\": {\n",
    "    \"genres\": {\n",
    "      \"terms\": { \"field\": \"party\" }\n",
    "    }\n",
    "  }\n",
    "}\n",
    "es.search(index=index_name, body=body, size=0 )"
   ]
  },
  {
   "cell_type": "markdown",
   "id": "6568ad56-fc69-483c-a61e-4b414ce9aa77",
   "metadata": {},
   "source": [
    "## Semantic search"
   ]
  },
  {
   "cell_type": "code",
   "execution_count": null,
   "id": "0684a75b-4fdf-4f30-8282-4b2783307db2",
   "metadata": {
    "tags": []
   },
   "outputs": [],
   "source": [
    "# query_vec = embed(\"Как устанавливается оплата на севере\").numpy()[0]\n",
    "query_vec = get_sentence_embeddings(\"Как устанавливается оплата на севере\").numpy()[0]"
   ]
  },
  {
   "cell_type": "code",
   "execution_count": null,
   "id": "3a3c5469-1777-4843-bcad-380b5c60bf3b",
   "metadata": {
    "tags": []
   },
   "outputs": [],
   "source": [
    "body = {\n",
    "    \"query\": {\n",
    "        \"elastiknn_nearest_neighbors\": {\n",
    "            \"field\": \"text_emb\",                     # 1\n",
    "            \"vec\": {                               # 2\n",
    "                \"values\": query_vec\n",
    "            },\n",
    "            \"model\": \"lsh\",                        # 3\n",
    "            \"similarity\": \"cosine\",                # 4\n",
    "            \"candidates\": 50                       # 5\n",
    "        }\n",
    "    }\n",
    "}\n",
    "\n",
    "res = es.search(index=index_name, body=body, size=10, _source=columns_to_add_as_text+['source_law','text'])\n",
    "display_hits(res)"
   ]
  },
  {
   "cell_type": "code",
   "execution_count": null,
   "id": "39530c1e-58ee-4f9d-a66a-33deaf7025d9",
   "metadata": {
    "tags": []
   },
   "outputs": [],
   "source": [
    "body = {\n",
    "    \"query\": {\n",
    "        \"elastiknn_nearest_neighbors\": {\n",
    "            \"field\": \"text_emb\",                     # 1\n",
    "            \"vec\": {                               # 2\n",
    "                \"values\": query_vec\n",
    "            },\n",
    "            \"model\": \"exact\",                        # 3\n",
    "            \"similarity\": \"cosine\",                # 4\n",
    "            \"candidates\": 50                       # 5\n",
    "        }\n",
    "    }\n",
    "}\n",
    "\n",
    "res = es.search(index=index_name, body=body, size=10, _source=columns_to_add_as_text+['text', 'source_law'])\n",
    "display_hits(res)"
   ]
  },
  {
   "cell_type": "markdown",
   "id": "695233b4-61e0-4b7d-a399-4420e3923bde",
   "metadata": {},
   "source": [
    "## Faceted search"
   ]
  },
  {
   "cell_type": "code",
   "execution_count": null,
   "id": "a88acd8e-c268-4cfb-a4c2-0660ce7f48ae",
   "metadata": {
    "tags": []
   },
   "outputs": [],
   "source": [
    "aggs_sequence = [\"party\", \"section_number\", \"chapter_number\", \"article_number\"]\n",
    "\n",
    "def display_aggs(hits):\n",
    "    aggs = hits['aggregations']\n",
    "    \n",
    "    def reccurent_aggs(aggs, level = 0):\n",
    "        buckets = aggs['buckets']\n",
    "        for b in buckets:\n",
    "            indent = '\\t'*level\n",
    "            print(f\"{indent}{b['key']}: {b['doc_count']}\")\n",
    "            if level+1 < len(aggs_sequence) and aggs_sequence[level+1]+'_a' in b.keys():\n",
    "                reccurent_aggs(b[aggs_sequence[level+1]+'_a'], level+1)\n",
    "                \n",
    "    reccurent_aggs(aggs[aggs_sequence[0]+'_a'], 0)"
   ]
  },
  {
   "cell_type": "code",
   "execution_count": null,
   "id": "bd23d2e1-dd76-4a20-9d82-bdb6bb442d92",
   "metadata": {
    "tags": []
   },
   "outputs": [],
   "source": [
    "top_k = 50\n",
    "min_score = 1.\n",
    "def filter_body(filters):\n",
    "    fs = []\n",
    "    for x in filters:\n",
    "        if type(x) is tuple:\n",
    "            fs.append({\"term\":{x[0]:x[1]}})\n",
    "        elif type(x) is str:\n",
    "            t = x.split(':', maxsplit=1)\n",
    "            fs.append({\"term\":{t[0]:t[1]}})\n",
    "    return fs\n",
    "        \n",
    "body = {\n",
    "    \"size\": top_k, \"min_score\": min_score, \n",
    "    \"query\": {\n",
    "        \"bool\": {\n",
    "            \"must\":{\n",
    "                \"elastiknn_nearest_neighbors\": {\n",
    "                    \"field\": \"text_emb\",                     # 1\n",
    "                    \"vec\": {                               # 2\n",
    "                        \"values\": query_vec\n",
    "                    },\n",
    "                    \"model\": \"exact\",                        # 3\n",
    "                    \"similarity\": \"cosine\",                # 4\n",
    "                    \"candidates\": 50                       # 5\n",
    "                }\n",
    "            },\n",
    "            \"filter\": [\n",
    "                { \"terms\": {\"article_number\": [\"Статья 130\"]} },\n",
    "                {\"term\": {\"party\":\"ЧАСТЬ ТРЕТЬЯ\"}}\n",
    "            ] \n",
    "                # filter_body({\"chapter_number\": \"Глава 21\"}),\n",
    "                # filter_body({\"section_number\": \"Раздел VI\"}),\n",
    "            # filter_body(['article_number:Статья 130', 'article_number:Статья 131']),\n",
    "            # [\n",
    "            #     { \"term\": {\"chapter_number\": \"Глава 21\"} },\n",
    "            # ]\n",
    "        }\n",
    "    },\n",
    "    \n",
    "    \"aggs\": {\n",
    "        \"party_a\": {\n",
    "            \"terms\": { \"field\": \"party\" },\n",
    "            \"aggs\": {\n",
    "                \"section_number_a\": {\n",
    "                    \"terms\": { \"field\": \"section_number\" },\n",
    "                    \"aggs\": {\n",
    "                        \"chapter_number_a\": {\n",
    "                            \"terms\": { \"field\": \"chapter_number\" },\n",
    "                            \"aggs\": {\n",
    "                                \"article_number_a\": {\n",
    "                                    \"terms\": { \"field\": \"article_number\" }\n",
    "                                }        \n",
    "                            }\n",
    "                        },\n",
    "                    },  \n",
    "                },\n",
    "            }\n",
    "\n",
    "        },\n",
    "\n",
    "    },\n",
    "}\n",
    "\n",
    "res = es.search(index=index_name, body=body, size=10, _source=columns_to_add_as_text)\n",
    "# display_hits(res)\n",
    "res['aggregations']"
   ]
  },
  {
   "cell_type": "code",
   "execution_count": null,
   "id": "b775aeb0-aeb0-489b-944e-df0d7b465550",
   "metadata": {
    "tags": []
   },
   "outputs": [],
   "source": [
    "display_hits(res)"
   ]
  },
  {
   "cell_type": "code",
   "execution_count": null,
   "id": "3b4869f8-944c-45b4-9ddc-2100c0353e15",
   "metadata": {
    "tags": []
   },
   "outputs": [],
   "source": [
    "display_aggs(res)"
   ]
  },
  {
   "cell_type": "code",
   "execution_count": null,
   "id": "6e639ff6-943b-4599-850f-06eb0258a1e3",
   "metadata": {},
   "outputs": [],
   "source": []
  }
 ],
 "metadata": {
  "kernelspec": {
   "display_name": "Python 3 (ipykernel)",
   "language": "python",
   "name": "python3"
  },
  "language_info": {
   "codemirror_mode": {
    "name": "ipython",
    "version": 3
   },
   "file_extension": ".py",
   "mimetype": "text/x-python",
   "name": "python",
   "nbconvert_exporter": "python",
   "pygments_lexer": "ipython3",
   "version": "3.8.10"
  }
 },
 "nbformat": 4,
 "nbformat_minor": 5
}
